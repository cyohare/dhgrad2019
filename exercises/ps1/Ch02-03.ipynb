{
 "cells": [
  {
   "cell_type": "markdown",
   "metadata": {},
   "source": [
    "# Finger exercises in Guttag\n",
    "## Chapters 2-3\n",
    "### Section 2.2 (p. 18): Basic branching\n",
    "Find the largest odd number among three integers"
   ]
  },
  {
   "cell_type": "code",
   "execution_count": null,
   "metadata": {
    "collapsed": false
   },
   "outputs": [],
   "source": [
    "\"\"\"\n",
    "    For [x,y,z], find largest odd number\n",
    "    Assumed: x, y, and z are positive integers\n",
    "\"\"\"\n",
    "# Declare our variables\n",
    "x = 9\n",
    "y = 8\n",
    "z = -2\n",
    "\n",
    "# Your code here ..."
   ]
  },
  {
   "cell_type": "markdown",
   "metadata": {},
   "source": [
    "### 2.4 (p. 24): Iteration, user input\n",
    "\n",
    "Replace the comment with a `while` loop:"
   ]
  },
  {
   "cell_type": "code",
   "execution_count": null,
   "metadata": {},
   "outputs": [],
   "source": [
    "numXs = int(input('How many times should I print the letter X? '))\n",
    "toPrint = ''\n",
    "# concatenate X to toPrint numXs times\n",
    "print(toPrint)"
   ]
  },
  {
   "cell_type": "markdown",
   "metadata": {},
   "source": [
    "Get ten integers from the user. Find largest odd among them."
   ]
  },
  {
   "cell_type": "code",
   "execution_count": null,
   "metadata": {
    "collapsed": false
   },
   "outputs": [],
   "source": [
    "# Your code here"
   ]
  },
  {
   "cell_type": "markdown",
   "metadata": {},
   "source": [
    "### 3.1 (p. 27): Exhaustive enumeration\n",
    "Get an integer from the user. Find two ints such that `root**pwr = input`. Constrain 1 < pwr < 6 (i.e., `pwr` = 2, 3 , 4, or 5).\n",
    "\n",
    "**Note** that the text calls for powers from 1 through 5, which produces a trivial answer."
   ]
  },
  {
   "cell_type": "code",
   "execution_count": null,
   "metadata": {
    "collapsed": false
   },
   "outputs": [],
   "source": [
    "# Your code here"
   ]
  },
  {
   "cell_type": "markdown",
   "metadata": {},
   "source": [
    "### 3.2 (p. 30): For loops\n",
    "\n",
    "Parse a string of comma separated floats. Print sum of input floats.\n",
    "\n",
    "The key insights here are (1) that you can iterate over the characters of a string and (2) that you can cast from a `string` to a `float`."
   ]
  },
  {
   "cell_type": "code",
   "execution_count": null,
   "metadata": {
    "collapsed": false
   },
   "outputs": [],
   "source": [
    "# Your code here"
   ]
  },
  {
   "cell_type": "markdown",
   "metadata": {},
   "source": [
    "### 3.3 (p. 34): Bisection search\n",
    "Change the code in Fig. 3.4 to handle cube roots of pos. and neg. ints. As originally written, code will loop forever on negative ints."
   ]
  },
  {
   "cell_type": "code",
   "execution_count": null,
   "metadata": {
    "collapsed": false
   },
   "outputs": [],
   "source": [
    "# Here's the original code.\n",
    "# All that's needed is a change to one line.\n",
    "x = -25\n",
    "epsilon = 0.01\n",
    "numGuesses = 0\n",
    "low = 0\n",
    "high = max(0.0,x)\n",
    "ans = (high + low)/2.0\n",
    "while abs(ans**3 - x) >= epsilon:\n",
    "    print('low =', low, 'high =', high, 'ans =', ans)\n",
    "    numGuesses += 1\n",
    "    if ans**3 < x:\n",
    "        low = ans\n",
    "    else:\n",
    "        high = ans\n",
    "    ans = (high + low)/2.0\n",
    "print('numGuesses =', numGuesses)\n",
    "print(ans, 'is close to the cube root of', x)"
   ]
  },
  {
   "cell_type": "markdown",
   "metadata": {},
   "source": [
    "### 3.4 (p. 35): Binary numbers\n",
    "`'10011' = ??? in decimal (normal) numbers"
   ]
  },
  {
   "cell_type": "markdown",
   "metadata": {},
   "source": [
    "Your answer here ..."
   ]
  },
  {
   "cell_type": "markdown",
   "metadata": {},
   "source": [
    "### 3.5 (p. 38): Newton-Raphson vs. bisection search efficiency\n",
    "\n",
    "Compare efficiency of these methods in finding square roots. This is all as in the supplied code, except for tracking the iterations."
   ]
  },
  {
   "cell_type": "code",
   "execution_count": null,
   "metadata": {
    "collapsed": false
   },
   "outputs": [],
   "source": [
    "# Code as supplied in text\n",
    "k = 256          # Num of which to find sqrt\n",
    "epsilon = 0.001  # Tolerance for solution \n",
    "print(\"Find the square root of\", k, \"+/-\", epsilon)\n",
    "\n",
    "# Bisection search (see Fig. 3.4)\n",
    "low = 0.0\n",
    "high = max(0.0,k)\n",
    "guess = (high + low)/2.0\n",
    "while abs(guess**2 - k) >= epsilon:\n",
    "    if guess**2 < k:\n",
    "        low = guess\n",
    "    else:\n",
    "        high = guess\n",
    "    guess = (high + low)/2.0\n",
    "print(\"Bisection root:     \", guess)\n",
    "\n",
    "# Newton-Raphson method (see Fig 3.5)\n",
    "guess = k/2.0 # Initial guess\n",
    "while abs(guess**2 - k) >= epsilon:\n",
    "    guess = guess - (((guess**2) - k)/(2*guess))\n",
    "print(\"Newton-Raphson root:\", guess)"
   ]
  }
 ],
 "metadata": {
  "kernelspec": {
   "display_name": "Python 3",
   "language": "python",
   "name": "python3"
  },
  "language_info": {
   "codemirror_mode": {
    "name": "ipython",
    "version": 3
   },
   "file_extension": ".py",
   "mimetype": "text/x-python",
   "name": "python",
   "nbconvert_exporter": "python",
   "pygments_lexer": "ipython3",
   "version": "3.7.1"
  }
 },
 "nbformat": 4,
 "nbformat_minor": 2
}
