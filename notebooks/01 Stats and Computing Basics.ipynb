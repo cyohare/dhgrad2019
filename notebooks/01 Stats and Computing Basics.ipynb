{
 "cells": [
  {
   "cell_type": "markdown",
   "metadata": {},
   "source": [
    "#  01. Statistical Thinking and Computational Basics\n",
    "\n"
   ]
  },
  {
   "cell_type": "markdown",
   "metadata": {},
   "source": [
    "## Getting to know computation\n",
    "\n",
    "Some very basic concepts to get us started. If you've written code before, hang tight -- we'll get to more complicated things soon. If this is your first encounter with programming, the idea is to give you enough background to be able to follow the major ideas over the next couple of days, though there's not enough here to get you to the point where you'll be able to do much on your own.\n",
    "\n",
    "### Arithmetic and data types\n",
    "\n",
    "Below is a code cell. The Python interpreter will execute whatever instructions you type into it, as soon as you hit the 'Run' icon (or the `shift-enter` key combination).\n",
    "\n",
    "#### Integer addition"
   ]
  },
  {
   "cell_type": "code",
   "execution_count": 1,
   "metadata": {
    "collapsed": false
   },
   "outputs": [
    {
     "data": {
      "text/plain": [
       "5"
      ]
     },
     "execution_count": 1,
     "metadata": {},
     "output_type": "execute_result"
    }
   ],
   "source": [
    "2+3"
   ]
  },
  {
   "cell_type": "markdown",
   "metadata": {},
   "source": [
    "#### Floating point addition"
   ]
  },
  {
   "cell_type": "code",
   "execution_count": 2,
   "metadata": {
    "collapsed": false
   },
   "outputs": [
    {
     "data": {
      "text/plain": [
       "5.0"
      ]
     },
     "execution_count": 2,
     "metadata": {},
     "output_type": "execute_result"
    }
   ],
   "source": [
    "2+3.0"
   ]
  },
  {
   "cell_type": "markdown",
   "metadata": {},
   "source": [
    "Notice that Python is a **weakly typed** language. You don't have to tell the interpreter whether you're using integers for floats or strings or whatever. And it'll often happily convert between types in ways that can be either helpful or infurating, depending on what you expect to happen.\n",
    "\n",
    "#### Divsion\n",
    "\n",
    "Note that the old Python **version 2** (not version 3, which we're using) had a quirk with division, where it failed to move between integers and floating point numbers in the way a human would. So, in version 3, you get what you'd expect:"
   ]
  },
  {
   "cell_type": "code",
   "execution_count": 3,
   "metadata": {
    "collapsed": false
   },
   "outputs": [
    {
     "data": {
      "text/plain": [
       "2.5"
      ]
     },
     "execution_count": 3,
     "metadata": {},
     "output_type": "execute_result"
    }
   ],
   "source": [
    "5/2"
   ]
  },
  {
   "cell_type": "markdown",
   "metadata": {},
   "source": [
    "But in version 2, you'd get just the integer part, that is, `2`. You can get the old behavior with the `//` (integer division) operator."
   ]
  },
  {
   "cell_type": "code",
   "execution_count": 4,
   "metadata": {
    "collapsed": false
   },
   "outputs": [
    {
     "data": {
      "text/plain": [
       "2"
      ]
     },
     "execution_count": 4,
     "metadata": {},
     "output_type": "execute_result"
    }
   ],
   "source": [
    "5//2"
   ]
  },
  {
   "cell_type": "markdown",
   "metadata": {},
   "source": [
    "#### Booleans\n",
    "\n",
    "Boolean data types can have one of two values, `True` or `False`. Note that you use two equal signs (`==`) to **compare** entities, whereas you use one equal sign (`=`) to **assign** a value to a variable. This will make more sense when we talk about variables in a minute."
   ]
  },
  {
   "cell_type": "code",
   "execution_count": 5,
   "metadata": {
    "collapsed": false
   },
   "outputs": [
    {
     "data": {
      "text/plain": [
       "False"
      ]
     },
     "execution_count": 5,
     "metadata": {},
     "output_type": "execute_result"
    }
   ],
   "source": [
    "2==3"
   ]
  },
  {
   "cell_type": "code",
   "execution_count": 6,
   "metadata": {
    "collapsed": false
   },
   "outputs": [
    {
     "data": {
      "text/plain": [
       "True"
      ]
     },
     "execution_count": 6,
     "metadata": {},
     "output_type": "execute_result"
    }
   ],
   "source": [
    "2==2"
   ]
  },
  {
   "cell_type": "code",
   "execution_count": 7,
   "metadata": {
    "collapsed": false
   },
   "outputs": [
    {
     "ename": "SyntaxError",
     "evalue": "can't assign to literal (<ipython-input-7-734f349ebae3>, line 1)",
     "output_type": "error",
     "traceback": [
      "\u001b[0;36m  File \u001b[0;32m\"<ipython-input-7-734f349ebae3>\"\u001b[0;36m, line \u001b[0;32m1\u001b[0m\n\u001b[0;31m    2=3\u001b[0m\n\u001b[0m       ^\u001b[0m\n\u001b[0;31mSyntaxError\u001b[0m\u001b[0;31m:\u001b[0m can't assign to literal\n"
     ]
    }
   ],
   "source": [
    "2=3"
   ]
  },
  {
   "cell_type": "markdown",
   "metadata": {},
   "source": [
    "Notice the error above. You can't set one integer equal to a different integer, but you can compare two integers to see if they're equal.\n",
    "\n",
    "#### Strings\n",
    "\n",
    "We'll do a fair amount of work with strings. They're a series of characters."
   ]
  },
  {
   "cell_type": "code",
   "execution_count": 8,
   "metadata": {
    "collapsed": false
   },
   "outputs": [
    {
     "data": {
      "text/plain": [
       "'Hello, world!'"
      ]
     },
     "execution_count": 8,
     "metadata": {},
     "output_type": "execute_result"
    }
   ],
   "source": [
    "\"Hello, world!\""
   ]
  },
  {
   "cell_type": "markdown",
   "metadata": {},
   "source": [
    "Note that Python rarely cares whether you use single or double quote marks.\n",
    "\n",
    "#### Lists\n",
    "\n",
    "Lists are useful for storing sequential data, because you can address individual members or run through the whole collection. Strings also behave like lists of characters under the hood. We designate a list by enclosing its members in square brackets."
   ]
  },
  {
   "cell_type": "code",
   "execution_count": 9,
   "metadata": {
    "collapsed": false
   },
   "outputs": [
    {
     "data": {
      "text/plain": [
       "[3, 2, 7]"
      ]
     },
     "execution_count": 9,
     "metadata": {},
     "output_type": "execute_result"
    }
   ],
   "source": [
    "[3, 2, 7]"
   ]
  },
  {
   "cell_type": "code",
   "execution_count": 10,
   "metadata": {
    "collapsed": false
   },
   "outputs": [
    {
     "data": {
      "text/plain": [
       "3"
      ]
     },
     "execution_count": 10,
     "metadata": {},
     "output_type": "execute_result"
    }
   ],
   "source": [
    "[3, 2, 7][0]"
   ]
  },
  {
   "cell_type": "code",
   "execution_count": 11,
   "metadata": {
    "collapsed": false
   },
   "outputs": [
    {
     "data": {
      "text/plain": [
       "'w'"
      ]
     },
     "execution_count": 11,
     "metadata": {},
     "output_type": "execute_result"
    }
   ],
   "source": [
    "\"Hello, world!\"[7]"
   ]
  },
  {
   "cell_type": "markdown",
   "metadata": {},
   "source": [
    "Notice the notation above. We've selected the list member at index position 7, which is the letter 'w'. If you count the characters, you'll see that 'w' is the eighth character of the string `\"Hello, world!\"` (including the comma and the space). Our code returns 'w' because Python, like many programming languages, indexes from zero, not one."
   ]
  },
  {
   "cell_type": "markdown",
   "metadata": {},
   "source": [
    "#### Dictionaries\n",
    "\n",
    "Dictionaries -- or dicts -- store key-value pairs. They're useful when you want to look up data, quickly, using a known value (just as you would with a real dictionary). Like lists, dictionaries can be nested, that is, we can create a dictionary of dictionaries or a list of lists. Dictionaries, like lists, can contain many different kinds of data and we can mix data types within a dict. We build a dict by enclosing its members in curly braces: `{}`.\n",
    "\n",
    "Dictionaries are used *way* more widely than you'd think on first encounter. We'll use them later to build complex dataframes for analysis."
   ]
  },
  {
   "cell_type": "code",
   "execution_count": 12,
   "metadata": {
    "collapsed": false
   },
   "outputs": [
    {
     "data": {
      "text/plain": [
       "'A'"
      ]
     },
     "execution_count": 12,
     "metadata": {},
     "output_type": "execute_result"
    }
   ],
   "source": [
    "# A gradebook dictionary\n",
    "grades = {'Amy' : 'A', 'Bob' : 'B', 'Charles' : 'C'}\n",
    "grades['Amy']"
   ]
  },
  {
   "cell_type": "markdown",
   "metadata": {},
   "source": [
    "### Variables\n",
    "\n",
    "You use variables to store values, often the results of calculations. It's good practice to give your variables meaningful names, so that you -- or anyone else reading your code -- can tell at a glance what kinds of data they hold and how they're used in your program.\n",
    "\n",
    "Here's a very simple example ..."
   ]
  },
  {
   "cell_type": "code",
   "execution_count": 13,
   "metadata": {
    "collapsed": false
   },
   "outputs": [
    {
     "name": "stdout",
     "output_type": "stream",
     "text": [
      "5\n"
     ]
    }
   ],
   "source": [
    "sample = 5\n",
    "print(sample)"
   ]
  },
  {
   "cell_type": "code",
   "execution_count": 14,
   "metadata": {
    "collapsed": false
   },
   "outputs": [
    {
     "data": {
      "text/plain": [
       "12"
      ]
     },
     "execution_count": 14,
     "metadata": {},
     "output_type": "execute_result"
    }
   ],
   "source": [
    "sample + 7"
   ]
  },
  {
   "cell_type": "markdown",
   "metadata": {},
   "source": [
    "Note that the value stored in the variable `sample` hasn't changed:"
   ]
  },
  {
   "cell_type": "code",
   "execution_count": 15,
   "metadata": {
    "collapsed": false
   },
   "outputs": [
    {
     "name": "stdout",
     "output_type": "stream",
     "text": [
      "5\n"
     ]
    }
   ],
   "source": [
    "print(sample)"
   ]
  },
  {
   "cell_type": "markdown",
   "metadata": {},
   "source": [
    "If I **want** the value of `sample` to change, I need to assign a different value to it. What's cool is that I can use the current value of `sample` to calculate the new value, even if I don't know what the current value is."
   ]
  },
  {
   "cell_type": "code",
   "execution_count": 16,
   "metadata": {
    "collapsed": false
   },
   "outputs": [
    {
     "name": "stdout",
     "output_type": "stream",
     "text": [
      "13\n"
     ]
    }
   ],
   "source": [
    "sample = sample * 2\n",
    "sample = sample + 3\n",
    "print(sample)"
   ]
  },
  {
   "cell_type": "markdown",
   "metadata": {},
   "source": [
    "You can name variables almost anything, but variable names in Python can't start with a number or a symbol (except for underscore), nor can they be the same as a small set of Python reserved words (such as `False` or `import`). Variable names are also case sensitive, so `sample` and `Sample` have no necessary relation to one another.\n",
    "\n",
    "If you're coming to Python from another language, you'll have noticed that Python doesn't force (or allow) you to declare your variables. That is, you don't explicitly tell the computer that you're creating a new variable, nor what type of data you're going to store in it. Just using a legal name that doesn't already exist creates the variable, and Python infers the type from the data you assign to it. For example:"
   ]
  },
  {
   "cell_type": "code",
   "execution_count": 17,
   "metadata": {
    "collapsed": true
   },
   "outputs": [],
   "source": [
    "an_integer = 2\n",
    "a_float    = 2.0\n",
    "monkeys    = ['Alpha', 'Bravo', 'Charlie']"
   ]
  },
  {
   "cell_type": "code",
   "execution_count": 18,
   "metadata": {
    "collapsed": false
   },
   "outputs": [
    {
     "name": "stdout",
     "output_type": "stream",
     "text": [
      "<class 'int'>\n",
      "<class 'float'>\n",
      "<class 'list'>\n"
     ]
    }
   ],
   "source": [
    "print(type(an_integer))\n",
    "print(type(a_float))\n",
    "print(type(monkeys))"
   ]
  },
  {
   "cell_type": "markdown",
   "metadata": {},
   "source": [
    "You can cast one type to another, provided there's a logical way to do so:"
   ]
  },
  {
   "cell_type": "code",
   "execution_count": 19,
   "metadata": {
    "collapsed": false
   },
   "outputs": [
    {
     "name": "stdout",
     "output_type": "stream",
     "text": [
      "2.0\n",
      "<class 'float'>\n",
      "2\n",
      "<class 'int'>\n"
     ]
    }
   ],
   "source": [
    "print(a_float)\n",
    "print(type(a_float))\n",
    "int_that_used_to_be_a_float = int(a_float)\n",
    "print(int_that_used_to_be_a_float)\n",
    "print(type(int_that_used_to_be_a_float))"
   ]
  },
  {
   "cell_type": "markdown",
   "metadata": {},
   "source": [
    "But there's no obvious way to turn a list of strings into an integer, so the type cast fails:"
   ]
  },
  {
   "cell_type": "code",
   "execution_count": 20,
   "metadata": {
    "collapsed": false
   },
   "outputs": [
    {
     "ename": "TypeError",
     "evalue": "int() argument must be a string, a bytes-like object or a number, not 'list'",
     "output_type": "error",
     "traceback": [
      "\u001b[0;31m---------------------------------------------------------------------------\u001b[0m",
      "\u001b[0;31mTypeError\u001b[0m                                 Traceback (most recent call last)",
      "\u001b[0;32m<ipython-input-20-a419e422672f>\u001b[0m in \u001b[0;36m<module>\u001b[0;34m\u001b[0m\n\u001b[0;32m----> 1\u001b[0;31m \u001b[0mint\u001b[0m\u001b[0;34m(\u001b[0m\u001b[0mmonkeys\u001b[0m\u001b[0;34m)\u001b[0m\u001b[0;34m\u001b[0m\u001b[0;34m\u001b[0m\u001b[0m\n\u001b[0m",
      "\u001b[0;31mTypeError\u001b[0m: int() argument must be a string, a bytes-like object or a number, not 'list'"
     ]
    }
   ],
   "source": [
    "int(monkeys)"
   ]
  },
  {
   "cell_type": "markdown",
   "metadata": {},
   "source": [
    "**We can read this error message and learn from it!** It tells us that there was a `TypeError`, so something went wrong having to do with the type of data that we were using. It went wrong in line 1 (the only line in this one-line program), which contained the code `int(monkeys)`. Specifically, the data that we supplied to the `int()` function was supposed to be a string, a number, or a 'bytes-like object,' not a list (which is what we supplied).\n",
    "\n",
    "Python errors are generally pretty informative, and while it can be hard to figure out exactly what went wrong in a large program, an error message almost always gives you some useful clues. In any case, explicit errors like this one are a lot easier to debug than are subtler errors where the code runs fine, but gives unexpected results. Or even worse, where the results *seem* fine, but aren't (becuase of an error in your logic, say, or an operation performed on the wrong data).\n",
    "\n",
    "**NB.** Watch out for implicit, silent type conversions in your code. They often do what you want (such as converting between integers and floats), but not always. This can be the source of difficult bugs.\n",
    "\n",
    "### User input\n",
    "\n",
    "We will not often need to process interactive inputs from the user, but it's good to know that such a thing is possible. You might use it to prompt the user for a file location or a desired parameter for an algorithm."
   ]
  },
  {
   "cell_type": "code",
   "execution_count": 22,
   "metadata": {},
   "outputs": [
    {
     "name": "stdin",
     "output_type": "stream",
     "text": [
      "Enter a number: 3\n"
     ]
    },
    {
     "name": "stdout",
     "output_type": "stream",
     "text": [
      "3.0\n"
     ]
    }
   ],
   "source": [
    "user_data = float(input('Enter a number:'))\n",
    "print(user_data)"
   ]
  },
  {
   "cell_type": "markdown",
   "metadata": {},
   "source": [
    "Note that user inputs are treated as strings. If you want a number, you must cast to an `int` or a `float` (as we've done here). Note, too, that there's nothing that forces the user to enter data of the type you request. If this is important -- if you're setting a parameter, for instance, or need a valid filename -- you'll have to implement some sort of input validation. More on validation and exceptions in lessons to come."
   ]
  },
  {
   "cell_type": "markdown",
   "metadata": {},
   "source": [
    "### Iteration and flow control\n",
    "\n",
    "You'll often find yourself needing to run a piece of code a given number of times or for each observation in a data set. A common way to do this is to use one of two main loop constructs, `for` and `while`.\n",
    "\n",
    "To print the integers between 1 and 5, we could use a `for` loop:"
   ]
  },
  {
   "cell_type": "code",
   "execution_count": 23,
   "metadata": {
    "collapsed": false
   },
   "outputs": [
    {
     "name": "stdout",
     "output_type": "stream",
     "text": [
      "0\n",
      "1\n",
      "2\n",
      "3\n",
      "4\n"
     ]
    }
   ],
   "source": [
    "for i in range(5):\n",
    "    print(i)"
   ]
  },
  {
   "cell_type": "markdown",
   "metadata": {},
   "source": [
    "The biggest thing to note here is that we define the scope of a loop (and many other kinds of functions) in Python using **whitespace**. Specifically, we indented the functional part of the loop. If we wanted to carry on doing things after the loop finished, we would have written subsequent code below the `print` statement without an indent.\n",
    "\n",
    "Python's use of meaninful whitespace is unusual among programming languages. It means that your code will often fail or give unexpected results if your indenting is inconsistent. On the plus side, you don't have to search for and count curly braces nearly as often as you do in other languages.\n",
    "\n",
    "Note, too, that the `range` function begins by default at zero and **excludes** the supplied end value. FYI, you can supply start, stop, and increment values. To count to 100 (inclusive) by tens, write:"
   ]
  },
  {
   "cell_type": "code",
   "execution_count": 24,
   "metadata": {
    "collapsed": false
   },
   "outputs": [
    {
     "name": "stdout",
     "output_type": "stream",
     "text": [
      "0\n",
      "10\n",
      "20\n",
      "30\n",
      "40\n",
      "50\n",
      "60\n",
      "70\n",
      "80\n",
      "90\n",
      "100\n"
     ]
    }
   ],
   "source": [
    "for i in range(0,101,10):\n",
    "    print(i)"
   ]
  },
  {
   "cell_type": "markdown",
   "metadata": {},
   "source": [
    "Let's say we want to add the integers from 1 through 5 ..."
   ]
  },
  {
   "cell_type": "code",
   "execution_count": 25,
   "metadata": {
    "collapsed": false
   },
   "outputs": [
    {
     "name": "stdout",
     "output_type": "stream",
     "text": [
      "\t0 + 1\n",
      "\t1 + 2\n",
      "\t3 + 3\n",
      "\t6 + 4\n",
      "\t10 + 5\n",
      "The sum is: 15\n"
     ]
    }
   ],
   "source": [
    "result = 0\n",
    "for number in range(1,6):\n",
    "    print('\\t%s + %s'%(result, number))\n",
    "    result += number\n",
    "print('The sum is:', result)"
   ]
  },
  {
   "cell_type": "markdown",
   "metadata": {},
   "source": [
    "Handful of things to notice in this one.\n",
    "\n",
    "* We need to create the `result` variable outside the loop, or it'll be recreated (and reset to zero) with each loop iteration. Creating it outside the loop allows us to store values calculated across all the iterations of the loop.\n",
    "* We've used a clever print statement with string substitution inside the loop. The two instances of `%s` in the string to print each take one of the variables supplied after the end of that string. The `\\t` in the print string creates a tab character to indent the intermediate results so that they're easier to read.\n",
    "* The `+=` operator is a compact way of writing `variable = variable + ...`. Here, it translates to `result = result + number`.\n",
    "\n",
    "We can also iterate over the elements of a list:"
   ]
  },
  {
   "cell_type": "code",
   "execution_count": 26,
   "metadata": {
    "collapsed": false
   },
   "outputs": [
    {
     "name": "stdout",
     "output_type": "stream",
     "text": [
      "The cat in the hat \n"
     ]
    }
   ],
   "source": [
    "words = ['The', 'cat', 'in', 'the', 'hat']\n",
    "sentence = ''\n",
    "for word in words:\n",
    "    sentence += word + ' '\n",
    "print(sentence)"
   ]
  },
  {
   "cell_type": "markdown",
   "metadata": {},
   "source": [
    "OK, that's nice. But sometimes we don't know exactly what sort of data we'll have or whether we'll need to process all of it. Or, we'll know that different data points should be treated differently. For this, we need flow control.\n",
    "\n",
    "The single most important flow operator is the `if` statement. Let's say we want to count the number of times the word 'the' occurs in the list of words we just defined. We can combine a `for` loop with an `if` statement to do it:"
   ]
  },
  {
   "cell_type": "code",
   "execution_count": 27,
   "metadata": {
    "collapsed": false
   },
   "outputs": [
    {
     "name": "stdout",
     "output_type": "stream",
     "text": [
      "Occurrences of 'the': 1\n"
     ]
    }
   ],
   "source": [
    "count_the = 0\n",
    "for word in words:\n",
    "    if word == 'the':\n",
    "        count_the += 1\n",
    "print('Occurrences of \\'the\\':', count_the)"
   ]
  },
  {
   "cell_type": "markdown",
   "metadata": {},
   "source": [
    "Shoot, we forgot that string comparisons are case sensitive. Let's use an `or` operator along with our `if` statement:"
   ]
  },
  {
   "cell_type": "code",
   "execution_count": 28,
   "metadata": {
    "collapsed": false
   },
   "outputs": [
    {
     "name": "stdout",
     "output_type": "stream",
     "text": [
      "Occurrences of 'the': 2\n"
     ]
    }
   ],
   "source": [
    "count_the = 0\n",
    "for word in words:\n",
    "    if word == 'the' or word == 'The':\n",
    "        count_the += 1\n",
    "print('Occurrences of \\'the\\':', count_the)"
   ]
  },
  {
   "cell_type": "markdown",
   "metadata": {},
   "source": [
    "That's fine for a short example, but it would get cumbersome in a hurry. The `in` statement can help:"
   ]
  },
  {
   "cell_type": "code",
   "execution_count": 29,
   "metadata": {
    "collapsed": false
   },
   "outputs": [
    {
     "name": "stdout",
     "output_type": "stream",
     "text": [
      "Occurrences of target words: 2\n"
     ]
    }
   ],
   "source": [
    "count_target = 0\n",
    "target_words = ['The', 'the']\n",
    "for word in words:\n",
    "    if word in target_words:\n",
    "        count_target += 1\n",
    "print('Occurrences of target words:', count_target)"
   ]
  },
  {
   "cell_type": "markdown",
   "metadata": {},
   "source": [
    "Two more quickies. You can nest multiple `if` statements:"
   ]
  },
  {
   "cell_type": "code",
   "execution_count": 30,
   "metadata": {
    "collapsed": false
   },
   "outputs": [
    {
     "name": "stdout",
     "output_type": "stream",
     "text": [
      "Items divisible by 5:  20\n",
      "Items divisible by 10: 10\n"
     ]
    }
   ],
   "source": [
    "# Count the numbers evenly divisible by 5 and by 10\n",
    "\n",
    "div_by_5 = 0  # Count of numbers evenly divisible by 5\n",
    "div_by_10 = 0 # Count of numbers evenly divisible by 10\n",
    "for i in range(0,100):\n",
    "    if i%5 == 0:       # '%' is the modulo operator\n",
    "        div_by_5 += 1\n",
    "        if i%10 == 0:\n",
    "            div_by_10 += 1\n",
    "print('Items divisible by 5: ', div_by_5)\n",
    "print('Items divisible by 10:', div_by_10)"
   ]
  },
  {
   "cell_type": "markdown",
   "metadata": {},
   "source": [
    "Using nested `if`s saves us from looping through the data twice. The speed difference here is tiny, but could be meaningful for a very large data set.\n",
    "\n",
    "We can also use if-else-then logic. Let's categorize the words in our Dr. Seuss title ..."
   ]
  },
  {
   "cell_type": "code",
   "execution_count": 31,
   "metadata": {
    "collapsed": false
   },
   "outputs": [
    {
     "name": "stdout",
     "output_type": "stream",
     "text": [
      "Determiners: 2\n",
      "Animals: 1\n",
      "Other: 2\n"
     ]
    }
   ],
   "source": [
    "determiners = ['The', 'the', 'A', 'a']\n",
    "animals     = ['cat', 'dog', 'horse']\n",
    "\n",
    "count_determiners = 0\n",
    "count_animals = 0\n",
    "count_other = 0\n",
    "\n",
    "for word in words:\n",
    "    if word in determiners:\n",
    "        count_determiners += 1\n",
    "    elif word in animals:\n",
    "        count_animals += 1\n",
    "    else:\n",
    "        count_other += 1\n",
    "print('Determiners:', count_determiners)\n",
    "print('Animals:', count_animals)\n",
    "print('Other:', count_other)"
   ]
  },
  {
   "cell_type": "markdown",
   "metadata": {},
   "source": [
    "#### List comprehensions\n",
    "\n",
    "As you'll have noticed, a common task involving `for` loops is to create a list of values derived from a range of input data. This is so common, in fact, that Python 3 introduced a shortcut called a list comprehension to handle it in one line of code. I find these comprehensions tricky for new programmers, but you'll see them often enough that we should note them here.\n",
    "\n",
    "The following two pieces of code produce the same result:"
   ]
  },
  {
   "cell_type": "code",
   "execution_count": 32,
   "metadata": {
    "collapsed": false
   },
   "outputs": [
    {
     "data": {
      "text/plain": [
       "True"
      ]
     },
     "execution_count": 32,
     "metadata": {},
     "output_type": "execute_result"
    }
   ],
   "source": [
    "result_forloop = []\n",
    "for i in range(5):\n",
    "    j = 2**i\n",
    "    result_forloop.append(j)\n",
    "    \n",
    "result_comprehension = [2**i for i in range(5)]\n",
    "\n",
    "result_forloop == result_comprehension"
   ]
  },
  {
   "cell_type": "markdown",
   "metadata": {},
   "source": [
    "### Functions\n",
    "\n",
    "As you can imagine, we often want to run an analytical process and logic on different data sets. Our temptation is to do one of two things, neither of which is a good idea:\n",
    "\n",
    "* Write a single block of code and repeatedly change the suplied data by hand.\n",
    "* Copy the same code over and over, changing the supplied data in each instance.\n",
    "\n",
    "The first of those options is undesirable because it's untraceable. What data did we use to get that result six iterations ago? What parameters did we use? Nothing in the code as it's saved now can tell us.\n",
    "\n",
    "The second option is a little better, but it gets messy in a hurry. If you discover an error in the original code, or just want to make a change, you have to change it in every copy and rerun each one.\n",
    "\n",
    "The solution is to write a **function** that encapsulates your code and gives it a stable interface. This allows you to write some processing or analytical code once and use it again and again with new data. If there's a problem with it, you can fix that problem once and benefit from the change everywhere.\n",
    "\n",
    "Here's a simple function that counts the words in a string of text:"
   ]
  },
  {
   "cell_type": "code",
   "execution_count": 72,
   "metadata": {
    "collapsed": true
   },
   "outputs": [],
   "source": [
    "def count_words(text):\n",
    "    words = text.split()   # Split on whitespace, return a list\n",
    "    wordcount = len(words) # How many items in our list of words?\n",
    "    return wordcount       # Value to pass back to calling program"
   ]
  },
  {
   "cell_type": "code",
   "execution_count": 73,
   "metadata": {
    "collapsed": false
   },
   "outputs": [
    {
     "data": {
      "text/plain": [
       "41"
      ]
     },
     "execution_count": 73,
     "metadata": {},
     "output_type": "execute_result"
    }
   ],
   "source": [
    "# count_words() in action\n",
    "\n",
    "moby = \"\"\"Call me Ishmael. Some years ago--never mind how long precisely--having\n",
    "little or no money in my purse, and nothing particular to interest me on\n",
    "shore, I thought I would sail about a little and see the watery part of\n",
    "the world.\"\"\"\n",
    "\n",
    "count_words(moby)"
   ]
  },
  {
   "cell_type": "markdown",
   "metadata": {},
   "source": [
    "Nice enough, but no big payoff yet. More data!"
   ]
  },
  {
   "cell_type": "code",
   "execution_count": 74,
   "metadata": {
    "collapsed": false
   },
   "outputs": [
    {
     "name": "stdout",
     "output_type": "stream",
     "text": [
      "41\n",
      "62\n",
      "51\n"
     ]
    }
   ],
   "source": [
    "jane = \"\"\"There was no possibility of taking a walk that day.  We had been\n",
    "wandering, indeed, in the leafless shrubbery an hour in the morning; but\n",
    "since dinner (Mrs. Reed, when there was no company, dined early) the cold\n",
    "winter wind had brought with it clouds so sombre, and a rain so\n",
    "penetrating, that further out-door exercise was now out of the question.\"\"\"\n",
    "\n",
    "dark = \"\"\"The Nellie, a cruising yawl, swung to her anchor without a flutter of\n",
    "the sails, and was at rest. The flood had made, the wind was nearly\n",
    "calm, and being bound down the river, the only thing for it was to come\n",
    "to and wait for the turn of the tide.\"\"\"\n",
    "\n",
    "for text in (moby, jane, dark):\n",
    "    print(count_words(text))"
   ]
  },
  {
   "cell_type": "markdown",
   "metadata": {},
   "source": [
    "But there's a pseudo-bug in our function. The `.split()` method splits words on whitespace, but not punctuation, which means the count for *Moby-Dick* is wrong. Let's fix it and make the string lower case while we're at it:"
   ]
  },
  {
   "cell_type": "code",
   "execution_count": 75,
   "metadata": {
    "collapsed": true
   },
   "outputs": [],
   "source": [
    "def count_words_better(text):\n",
    "    import string       # import useful string code\n",
    "    convert_to_space = string.punctuation # characters to convert to spaces\n",
    "    text_clean = ''     # variable to store the transformed string\n",
    "    for letter in text: # loop over letters in the string\n",
    "        if letter in convert_to_space:\n",
    "            letter = ' '     # replace prescribed characters with space\n",
    "        text_clean += letter.lower() # build clean lowercase string\n",
    "    words = text_clean.split()\n",
    "    wordcount = len(words)\n",
    "    return wordcount, text_clean # return both the count and the cleaned string"
   ]
  },
  {
   "cell_type": "code",
   "execution_count": 76,
   "metadata": {
    "collapsed": false
   },
   "outputs": [
    {
     "name": "stdout",
     "output_type": "stream",
     "text": [
      "(43, 'call me ishmael  some years ago  never mind how long precisely  having\\nlittle or no money in my purse  and nothing particular to interest me on\\nshore  i thought i would sail about a little and see the watery part of\\nthe world ')\n",
      "(63, 'there was no possibility of taking a walk that day   we had been\\nwandering  indeed  in the leafless shrubbery an hour in the morning  but\\nsince dinner  mrs  reed  when there was no company  dined early  the cold\\nwinter wind had brought with it clouds so sombre  and a rain so\\npenetrating  that further out door exercise was now out of the question ')\n",
      "(51, 'the nellie  a cruising yawl  swung to her anchor without a flutter of\\nthe sails  and was at rest  the flood had made  the wind was nearly\\ncalm  and being bound down the river  the only thing for it was to come\\nto and wait for the turn of the tide ')\n"
     ]
    }
   ],
   "source": [
    "for text in (moby, jane, dark):\n",
    "    print(count_words_better(text))"
   ]
  },
  {
   "cell_type": "markdown",
   "metadata": {},
   "source": [
    "This version of the function is more complicated, but more powerful. It fixes our dash problem by replacing punctuation with spaces and it returns, along with the wordcount, a punctuationless, lower-case version of the input text. This is important: functions can return anything -- and as many things as -- you want them to. `return` statements are, moreover, the **only** way you should pass information from a function back to the code that called it.\n",
    "\n",
    "The new function makes use of Python's buit-in `string` package to provide the list of punctuation, which saves us from having to type a bunch of punctuation marks ourselves and from accidentally forgetting a mark or two.\n",
    "\n",
    "If we later decide that converting all punctuation marks to spaces was a bad idea (it probably is), we could modify the function again to do something else and then rerun the rest of our code without needing to make any further changes.\n",
    "\n",
    "## Brief interlude on statistical thinking\n",
    "\n",
    "Main points:\n",
    "\n",
    "* The move to larger scales emphasizes regularities and trends over particlarities and exceptions.\n",
    "* When data sets grow large, we often don't know what they contain or what the \"right\" values might be. We can use descriptive statics to learn what we're observing.\n",
    "* Question your instincts, but also question the numbers. Corpora can be dirty and code can be buggy.\n",
    "* Ask whether your corpus or dataset reflects the underlying phenomenon of interest. How have collection practices and biases shaped the data available to you?\n",
    "\n",
    "## Let's work with some texts\n",
    "\n",
    "I've assembled a small corpus of 40 novels by British and American authors. Let's load them and see a bit of what they contain. This will also allow us to calculate and visualize some simple statistics.\n",
    "\n",
    "The texts are in the `../data/texts/` directory. The files are named with systematic metadata:\n",
    "\n",
    "```\n",
    "A-Cather-Antonia-1918-F.txt\n",
    "```\n",
    "\n",
    "Which means:\n",
    "\n",
    "* `A` = American (U.S.) author (`B` for British/U.K.)\n",
    "* `Cather` = Author last name (here, Willa Cather)\n",
    "* `Antonia` = Short title (here, _My Antonia_)\n",
    "* `1918` = Year of first publication\n",
    "* `F` = Female author (`M` for male)\n",
    "\n",
    "We can parse these names as we ingest the files to create a metadata table."
   ]
  },
  {
   "cell_type": "code",
   "execution_count": 39,
   "metadata": {
    "collapsed": false
   },
   "outputs": [
    {
     "name": "stdout",
     "output_type": "stream",
     "text": [
      "CPU times: user 1.2 ms, sys: 2.86 ms, total: 4.06 ms\n",
      "Wall time: 4.03 ms\n"
     ]
    }
   ],
   "source": [
    "%%time\n",
    "from nltk.corpus.reader.plaintext import PlaintextCorpusReader\n",
    "import os\n",
    "import pandas as pd\n",
    "\n",
    "text_dir = os.path.join('..', 'data', 'texts')\n",
    "corpus = PlaintextCorpusReader(text_dir, '.*\\.txt') # Takes a few secs on first run"
   ]
  },
  {
   "cell_type": "code",
   "execution_count": 40,
   "metadata": {
    "collapsed": false
   },
   "outputs": [
    {
     "name": "stdout",
     "output_type": "stream",
     "text": [
      "['A-Alcott-Little_Women-1868-F.txt', 'A-Cather-Antonia-1918-F.txt', 'A-Chesnutt-Marrow-1901-M.txt', 'A-Chopin-Awakening-1899-F.txt', 'A-Crane-Maggie-1893-M.txt', 'A-Davis-Life_Iron_mills-1861-F.txt', 'A-Dreiser-Sister_Carrie-1900-M.txt', 'A-Freeman-Pembroke-1894-F.txt', 'A-Gilman-Herland-1915-F.txt', 'A-Harper-Iola_Leroy-1892-F.txt', 'A-Hawthorne-Scarlet_Letter-1850-M.txt', 'A-Howells-Silas_Lapham-1885-M.txt', 'A-James-Golden_Bowl-1904-M.txt', 'A-Jewett-Pointed_Firs-1896-F.txt', 'A-London-Call_Wild-1903-M.txt', 'A-Melville-Moby_Dick-1851-M.txt', 'A-Norris-Pit-1903-M.txt', 'A-Stowe-Uncle_Tom-1852-F.txt', 'A-Twain-Huck_Finn-1885-M.txt', 'A-Wharton-Age_Innocence-1920-F.txt', 'B-Austen-Pride_Prejudice-1813-F.txt', 'B-Bronte_C-Jane_Eyre-1847-F.txt', 'B-Bronte_E-Wuthering_Heights-1847-F.txt', 'B-Burney-Evelina-1778-F.txt', 'B-Conrad-Heart_Darkness-1902-M.txt', 'B-Dickens-Bleak_House-1853-M.txt', 'B-Disraeli-Sybil-1845-M.txt', 'B-Eliot-Middlemarch-1869-F.txt', 'B-Forster-Room_View-1908-M.txt', 'B-Gaskell-North_South-1855-F.txt', 'B-Gissing-Grub_Street-1893-M.txt', 'B-Hardy-Tess-1891-M.txt', 'B-Mitford-Our_Village-1826-F.txt', 'B-Radcliffe-Mysteries_Udolpho-1794-F.txt', 'B-Shelley-Frankenstein-1818-F.txt', 'B-Stevenson-Treasure_Island-1883-M.txt', 'B-Thackeray-Vanity_Fair-1848-M.txt', 'B-Trollope-Live_Now-1875-M.txt', 'B-Wells-Time_Machine-1895-M.txt', 'B-Woolf-Mrs_Dalloway-1925-F.txt']\n"
     ]
    }
   ],
   "source": [
    "print(corpus.fileids())"
   ]
  },
  {
   "cell_type": "code",
   "execution_count": 43,
   "metadata": {
    "collapsed": false
   },
   "outputs": [],
   "source": [
    "# A function to turn fileids into a table of metadata\n",
    "def parse_fileids(fileids):\n",
    "    '''Takes a list of file names formatted like A-Cather-Antonia-1918-F.txt.\n",
    "       Returns a pandas dataframe of derived metadata.'''\n",
    "    import pandas as pd\n",
    "    meta = {}\n",
    "    for fileid in fileids:\n",
    "        file = fileid.strip('.txt') # Get rid of file suffix\n",
    "        fields = file.split('-') # Split on dashes\n",
    "        fields[1] = fields[1].replace('_', (', ')) # Replace underscore in name\n",
    "        fields[2] = fields[2].replace('_', ' ') # Remove underscore from titles\n",
    "        fields[3] = int(fields[3])\n",
    "        meta[file] = fields\n",
    "    metadata = pd.DataFrame.from_dict(meta, orient='index') # Build dataframe\n",
    "    metadata.columns = ['nation', 'author', 'title', 'pubdate', 'gender'] # Col names\n",
    "    return metadata.sort_index() # Note we need to sort b/c datframe built from dictionary"
   ]
  },
  {
   "cell_type": "code",
   "execution_count": 44,
   "metadata": {
    "collapsed": false
   },
   "outputs": [
    {
     "data": {
      "text/html": [
       "<div>\n",
       "<style scoped>\n",
       "    .dataframe tbody tr th:only-of-type {\n",
       "        vertical-align: middle;\n",
       "    }\n",
       "\n",
       "    .dataframe tbody tr th {\n",
       "        vertical-align: top;\n",
       "    }\n",
       "\n",
       "    .dataframe thead th {\n",
       "        text-align: right;\n",
       "    }\n",
       "</style>\n",
       "<table border=\"1\" class=\"dataframe\">\n",
       "  <thead>\n",
       "    <tr style=\"text-align: right;\">\n",
       "      <th></th>\n",
       "      <th>nation</th>\n",
       "      <th>author</th>\n",
       "      <th>title</th>\n",
       "      <th>pubdate</th>\n",
       "      <th>gender</th>\n",
       "    </tr>\n",
       "  </thead>\n",
       "  <tbody>\n",
       "    <tr>\n",
       "      <th>A-Alcott-Little_Women-1868-F</th>\n",
       "      <td>A</td>\n",
       "      <td>Alcott</td>\n",
       "      <td>Little Women</td>\n",
       "      <td>1868</td>\n",
       "      <td>F</td>\n",
       "    </tr>\n",
       "    <tr>\n",
       "      <th>A-Cather-Antonia-1918-F</th>\n",
       "      <td>A</td>\n",
       "      <td>Cather</td>\n",
       "      <td>Antonia</td>\n",
       "      <td>1918</td>\n",
       "      <td>F</td>\n",
       "    </tr>\n",
       "    <tr>\n",
       "      <th>A-Chesnutt-Marrow-1901-M</th>\n",
       "      <td>A</td>\n",
       "      <td>Chesnutt</td>\n",
       "      <td>Marrow</td>\n",
       "      <td>1901</td>\n",
       "      <td>M</td>\n",
       "    </tr>\n",
       "    <tr>\n",
       "      <th>A-Chopin-Awakening-1899-F</th>\n",
       "      <td>A</td>\n",
       "      <td>Chopin</td>\n",
       "      <td>Awakening</td>\n",
       "      <td>1899</td>\n",
       "      <td>F</td>\n",
       "    </tr>\n",
       "    <tr>\n",
       "      <th>A-Crane-Maggie-1893-M</th>\n",
       "      <td>A</td>\n",
       "      <td>Crane</td>\n",
       "      <td>Maggie</td>\n",
       "      <td>1893</td>\n",
       "      <td>M</td>\n",
       "    </tr>\n",
       "    <tr>\n",
       "      <th>A-Davis-Life_Iron_mills-1861-F</th>\n",
       "      <td>A</td>\n",
       "      <td>Davis</td>\n",
       "      <td>Life Iron mills</td>\n",
       "      <td>1861</td>\n",
       "      <td>F</td>\n",
       "    </tr>\n",
       "    <tr>\n",
       "      <th>A-Dreiser-Sister_Carrie-1900-M</th>\n",
       "      <td>A</td>\n",
       "      <td>Dreiser</td>\n",
       "      <td>Sister Carrie</td>\n",
       "      <td>1900</td>\n",
       "      <td>M</td>\n",
       "    </tr>\n",
       "    <tr>\n",
       "      <th>A-Freeman-Pembroke-1894-F</th>\n",
       "      <td>A</td>\n",
       "      <td>Freeman</td>\n",
       "      <td>Pembroke</td>\n",
       "      <td>1894</td>\n",
       "      <td>F</td>\n",
       "    </tr>\n",
       "    <tr>\n",
       "      <th>A-Gilman-Herland-1915-F</th>\n",
       "      <td>A</td>\n",
       "      <td>Gilman</td>\n",
       "      <td>Herland</td>\n",
       "      <td>1915</td>\n",
       "      <td>F</td>\n",
       "    </tr>\n",
       "    <tr>\n",
       "      <th>A-Harper-Iola_Leroy-1892-F</th>\n",
       "      <td>A</td>\n",
       "      <td>Harper</td>\n",
       "      <td>Iola Leroy</td>\n",
       "      <td>1892</td>\n",
       "      <td>F</td>\n",
       "    </tr>\n",
       "    <tr>\n",
       "      <th>A-Hawthorne-Scarlet_Letter-1850-M</th>\n",
       "      <td>A</td>\n",
       "      <td>Hawthorne</td>\n",
       "      <td>Scarlet Letter</td>\n",
       "      <td>1850</td>\n",
       "      <td>M</td>\n",
       "    </tr>\n",
       "    <tr>\n",
       "      <th>A-Howells-Silas_Lapham-1885-M</th>\n",
       "      <td>A</td>\n",
       "      <td>Howells</td>\n",
       "      <td>Silas Lapham</td>\n",
       "      <td>1885</td>\n",
       "      <td>M</td>\n",
       "    </tr>\n",
       "    <tr>\n",
       "      <th>A-James-Golden_Bowl-1904-M</th>\n",
       "      <td>A</td>\n",
       "      <td>James</td>\n",
       "      <td>Golden Bowl</td>\n",
       "      <td>1904</td>\n",
       "      <td>M</td>\n",
       "    </tr>\n",
       "    <tr>\n",
       "      <th>A-Jewett-Pointed_Firs-1896-F</th>\n",
       "      <td>A</td>\n",
       "      <td>Jewett</td>\n",
       "      <td>Pointed Firs</td>\n",
       "      <td>1896</td>\n",
       "      <td>F</td>\n",
       "    </tr>\n",
       "    <tr>\n",
       "      <th>A-London-Call_Wild-1903-M</th>\n",
       "      <td>A</td>\n",
       "      <td>London</td>\n",
       "      <td>Call Wild</td>\n",
       "      <td>1903</td>\n",
       "      <td>M</td>\n",
       "    </tr>\n",
       "    <tr>\n",
       "      <th>A-Melville-Moby_Dick-1851-M</th>\n",
       "      <td>A</td>\n",
       "      <td>Melville</td>\n",
       "      <td>Moby Dick</td>\n",
       "      <td>1851</td>\n",
       "      <td>M</td>\n",
       "    </tr>\n",
       "    <tr>\n",
       "      <th>A-Norris-Pit-1903-M</th>\n",
       "      <td>A</td>\n",
       "      <td>Norris</td>\n",
       "      <td>Pit</td>\n",
       "      <td>1903</td>\n",
       "      <td>M</td>\n",
       "    </tr>\n",
       "    <tr>\n",
       "      <th>A-Stowe-Uncle_Tom-1852-F</th>\n",
       "      <td>A</td>\n",
       "      <td>Stowe</td>\n",
       "      <td>Uncle Tom</td>\n",
       "      <td>1852</td>\n",
       "      <td>F</td>\n",
       "    </tr>\n",
       "    <tr>\n",
       "      <th>A-Twain-Huck_Finn-1885-M</th>\n",
       "      <td>A</td>\n",
       "      <td>Twain</td>\n",
       "      <td>Huck Finn</td>\n",
       "      <td>1885</td>\n",
       "      <td>M</td>\n",
       "    </tr>\n",
       "    <tr>\n",
       "      <th>A-Wharton-Age_Innocence-1920-F</th>\n",
       "      <td>A</td>\n",
       "      <td>Wharton</td>\n",
       "      <td>Age Innocence</td>\n",
       "      <td>1920</td>\n",
       "      <td>F</td>\n",
       "    </tr>\n",
       "    <tr>\n",
       "      <th>B-Austen-Pride_Prejudice-1813-F</th>\n",
       "      <td>B</td>\n",
       "      <td>Austen</td>\n",
       "      <td>Pride Prejudice</td>\n",
       "      <td>1813</td>\n",
       "      <td>F</td>\n",
       "    </tr>\n",
       "    <tr>\n",
       "      <th>B-Bronte_C-Jane_Eyre-1847-F</th>\n",
       "      <td>B</td>\n",
       "      <td>Bronte, C</td>\n",
       "      <td>Jane Eyre</td>\n",
       "      <td>1847</td>\n",
       "      <td>F</td>\n",
       "    </tr>\n",
       "    <tr>\n",
       "      <th>B-Bronte_E-Wuthering_Heights-1847-F</th>\n",
       "      <td>B</td>\n",
       "      <td>Bronte, E</td>\n",
       "      <td>Wuthering Heights</td>\n",
       "      <td>1847</td>\n",
       "      <td>F</td>\n",
       "    </tr>\n",
       "    <tr>\n",
       "      <th>B-Burney-Evelina-1778-F</th>\n",
       "      <td>B</td>\n",
       "      <td>Burney</td>\n",
       "      <td>Evelina</td>\n",
       "      <td>1778</td>\n",
       "      <td>F</td>\n",
       "    </tr>\n",
       "    <tr>\n",
       "      <th>B-Conrad-Heart_Darkness-1902-M</th>\n",
       "      <td>B</td>\n",
       "      <td>Conrad</td>\n",
       "      <td>Heart Darkness</td>\n",
       "      <td>1902</td>\n",
       "      <td>M</td>\n",
       "    </tr>\n",
       "    <tr>\n",
       "      <th>B-Dickens-Bleak_House-1853-M</th>\n",
       "      <td>B</td>\n",
       "      <td>Dickens</td>\n",
       "      <td>Bleak House</td>\n",
       "      <td>1853</td>\n",
       "      <td>M</td>\n",
       "    </tr>\n",
       "    <tr>\n",
       "      <th>B-Disraeli-Sybil-1845-M</th>\n",
       "      <td>B</td>\n",
       "      <td>Disraeli</td>\n",
       "      <td>Sybil</td>\n",
       "      <td>1845</td>\n",
       "      <td>M</td>\n",
       "    </tr>\n",
       "    <tr>\n",
       "      <th>B-Eliot-Middlemarch-1869-F</th>\n",
       "      <td>B</td>\n",
       "      <td>Eliot</td>\n",
       "      <td>Middlemarch</td>\n",
       "      <td>1869</td>\n",
       "      <td>F</td>\n",
       "    </tr>\n",
       "    <tr>\n",
       "      <th>B-Forster-Room_View-1908-M</th>\n",
       "      <td>B</td>\n",
       "      <td>Forster</td>\n",
       "      <td>Room View</td>\n",
       "      <td>1908</td>\n",
       "      <td>M</td>\n",
       "    </tr>\n",
       "    <tr>\n",
       "      <th>B-Gaskell-North_South-1855-F</th>\n",
       "      <td>B</td>\n",
       "      <td>Gaskell</td>\n",
       "      <td>North South</td>\n",
       "      <td>1855</td>\n",
       "      <td>F</td>\n",
       "    </tr>\n",
       "    <tr>\n",
       "      <th>B-Gissing-Grub_Street-1893-M</th>\n",
       "      <td>B</td>\n",
       "      <td>Gissing</td>\n",
       "      <td>Grub Street</td>\n",
       "      <td>1893</td>\n",
       "      <td>M</td>\n",
       "    </tr>\n",
       "    <tr>\n",
       "      <th>B-Hardy-Tess-1891-M</th>\n",
       "      <td>B</td>\n",
       "      <td>Hardy</td>\n",
       "      <td>Tess</td>\n",
       "      <td>1891</td>\n",
       "      <td>M</td>\n",
       "    </tr>\n",
       "    <tr>\n",
       "      <th>B-Mitford-Our_Village-1826-F</th>\n",
       "      <td>B</td>\n",
       "      <td>Mitford</td>\n",
       "      <td>Our Village</td>\n",
       "      <td>1826</td>\n",
       "      <td>F</td>\n",
       "    </tr>\n",
       "    <tr>\n",
       "      <th>B-Radcliffe-Mysteries_Udolpho-1794-F</th>\n",
       "      <td>B</td>\n",
       "      <td>Radcliffe</td>\n",
       "      <td>Mysteries Udolpho</td>\n",
       "      <td>1794</td>\n",
       "      <td>F</td>\n",
       "    </tr>\n",
       "    <tr>\n",
       "      <th>B-Shelley-Frankenstein-1818-F</th>\n",
       "      <td>B</td>\n",
       "      <td>Shelley</td>\n",
       "      <td>Frankenstein</td>\n",
       "      <td>1818</td>\n",
       "      <td>F</td>\n",
       "    </tr>\n",
       "    <tr>\n",
       "      <th>B-Stevenson-Treasure_Island-1883-M</th>\n",
       "      <td>B</td>\n",
       "      <td>Stevenson</td>\n",
       "      <td>Treasure Island</td>\n",
       "      <td>1883</td>\n",
       "      <td>M</td>\n",
       "    </tr>\n",
       "    <tr>\n",
       "      <th>B-Thackeray-Vanity_Fair-1848-M</th>\n",
       "      <td>B</td>\n",
       "      <td>Thackeray</td>\n",
       "      <td>Vanity Fair</td>\n",
       "      <td>1848</td>\n",
       "      <td>M</td>\n",
       "    </tr>\n",
       "    <tr>\n",
       "      <th>B-Trollope-Live_Now-1875-M</th>\n",
       "      <td>B</td>\n",
       "      <td>Trollope</td>\n",
       "      <td>Live Now</td>\n",
       "      <td>1875</td>\n",
       "      <td>M</td>\n",
       "    </tr>\n",
       "    <tr>\n",
       "      <th>B-Wells-Time_Machine-1895-M</th>\n",
       "      <td>B</td>\n",
       "      <td>Wells</td>\n",
       "      <td>Time Machine</td>\n",
       "      <td>1895</td>\n",
       "      <td>M</td>\n",
       "    </tr>\n",
       "    <tr>\n",
       "      <th>B-Woolf-Mrs_Dalloway-1925-F</th>\n",
       "      <td>B</td>\n",
       "      <td>Woolf</td>\n",
       "      <td>Mrs Dalloway</td>\n",
       "      <td>1925</td>\n",
       "      <td>F</td>\n",
       "    </tr>\n",
       "  </tbody>\n",
       "</table>\n",
       "</div>"
      ],
      "text/plain": [
       "                                     nation     author              title  \\\n",
       "A-Alcott-Little_Women-1868-F              A     Alcott       Little Women   \n",
       "A-Cather-Antonia-1918-F                   A     Cather            Antonia   \n",
       "A-Chesnutt-Marrow-1901-M                  A   Chesnutt             Marrow   \n",
       "A-Chopin-Awakening-1899-F                 A     Chopin          Awakening   \n",
       "A-Crane-Maggie-1893-M                     A      Crane             Maggie   \n",
       "A-Davis-Life_Iron_mills-1861-F            A      Davis    Life Iron mills   \n",
       "A-Dreiser-Sister_Carrie-1900-M            A    Dreiser      Sister Carrie   \n",
       "A-Freeman-Pembroke-1894-F                 A    Freeman           Pembroke   \n",
       "A-Gilman-Herland-1915-F                   A     Gilman            Herland   \n",
       "A-Harper-Iola_Leroy-1892-F                A     Harper         Iola Leroy   \n",
       "A-Hawthorne-Scarlet_Letter-1850-M         A  Hawthorne     Scarlet Letter   \n",
       "A-Howells-Silas_Lapham-1885-M             A    Howells       Silas Lapham   \n",
       "A-James-Golden_Bowl-1904-M                A      James        Golden Bowl   \n",
       "A-Jewett-Pointed_Firs-1896-F              A     Jewett       Pointed Firs   \n",
       "A-London-Call_Wild-1903-M                 A     London          Call Wild   \n",
       "A-Melville-Moby_Dick-1851-M               A   Melville          Moby Dick   \n",
       "A-Norris-Pit-1903-M                       A     Norris                Pit   \n",
       "A-Stowe-Uncle_Tom-1852-F                  A      Stowe          Uncle Tom   \n",
       "A-Twain-Huck_Finn-1885-M                  A      Twain          Huck Finn   \n",
       "A-Wharton-Age_Innocence-1920-F            A    Wharton      Age Innocence   \n",
       "B-Austen-Pride_Prejudice-1813-F           B     Austen    Pride Prejudice   \n",
       "B-Bronte_C-Jane_Eyre-1847-F               B  Bronte, C          Jane Eyre   \n",
       "B-Bronte_E-Wuthering_Heights-1847-F       B  Bronte, E  Wuthering Heights   \n",
       "B-Burney-Evelina-1778-F                   B     Burney            Evelina   \n",
       "B-Conrad-Heart_Darkness-1902-M            B     Conrad     Heart Darkness   \n",
       "B-Dickens-Bleak_House-1853-M              B    Dickens        Bleak House   \n",
       "B-Disraeli-Sybil-1845-M                   B   Disraeli              Sybil   \n",
       "B-Eliot-Middlemarch-1869-F                B      Eliot        Middlemarch   \n",
       "B-Forster-Room_View-1908-M                B    Forster          Room View   \n",
       "B-Gaskell-North_South-1855-F              B    Gaskell        North South   \n",
       "B-Gissing-Grub_Street-1893-M              B    Gissing        Grub Street   \n",
       "B-Hardy-Tess-1891-M                       B      Hardy               Tess   \n",
       "B-Mitford-Our_Village-1826-F              B    Mitford        Our Village   \n",
       "B-Radcliffe-Mysteries_Udolpho-1794-F      B  Radcliffe  Mysteries Udolpho   \n",
       "B-Shelley-Frankenstein-1818-F             B    Shelley       Frankenstein   \n",
       "B-Stevenson-Treasure_Island-1883-M        B  Stevenson    Treasure Island   \n",
       "B-Thackeray-Vanity_Fair-1848-M            B  Thackeray        Vanity Fair   \n",
       "B-Trollope-Live_Now-1875-M                B   Trollope           Live Now   \n",
       "B-Wells-Time_Machine-1895-M               B      Wells       Time Machine   \n",
       "B-Woolf-Mrs_Dalloway-1925-F               B      Woolf       Mrs Dalloway   \n",
       "\n",
       "                                      pubdate gender  \n",
       "A-Alcott-Little_Women-1868-F             1868      F  \n",
       "A-Cather-Antonia-1918-F                  1918      F  \n",
       "A-Chesnutt-Marrow-1901-M                 1901      M  \n",
       "A-Chopin-Awakening-1899-F                1899      F  \n",
       "A-Crane-Maggie-1893-M                    1893      M  \n",
       "A-Davis-Life_Iron_mills-1861-F           1861      F  \n",
       "A-Dreiser-Sister_Carrie-1900-M           1900      M  \n",
       "A-Freeman-Pembroke-1894-F                1894      F  \n",
       "A-Gilman-Herland-1915-F                  1915      F  \n",
       "A-Harper-Iola_Leroy-1892-F               1892      F  \n",
       "A-Hawthorne-Scarlet_Letter-1850-M        1850      M  \n",
       "A-Howells-Silas_Lapham-1885-M            1885      M  \n",
       "A-James-Golden_Bowl-1904-M               1904      M  \n",
       "A-Jewett-Pointed_Firs-1896-F             1896      F  \n",
       "A-London-Call_Wild-1903-M                1903      M  \n",
       "A-Melville-Moby_Dick-1851-M              1851      M  \n",
       "A-Norris-Pit-1903-M                      1903      M  \n",
       "A-Stowe-Uncle_Tom-1852-F                 1852      F  \n",
       "A-Twain-Huck_Finn-1885-M                 1885      M  \n",
       "A-Wharton-Age_Innocence-1920-F           1920      F  \n",
       "B-Austen-Pride_Prejudice-1813-F          1813      F  \n",
       "B-Bronte_C-Jane_Eyre-1847-F              1847      F  \n",
       "B-Bronte_E-Wuthering_Heights-1847-F      1847      F  \n",
       "B-Burney-Evelina-1778-F                  1778      F  \n",
       "B-Conrad-Heart_Darkness-1902-M           1902      M  \n",
       "B-Dickens-Bleak_House-1853-M             1853      M  \n",
       "B-Disraeli-Sybil-1845-M                  1845      M  \n",
       "B-Eliot-Middlemarch-1869-F               1869      F  \n",
       "B-Forster-Room_View-1908-M               1908      M  \n",
       "B-Gaskell-North_South-1855-F             1855      F  \n",
       "B-Gissing-Grub_Street-1893-M             1893      M  \n",
       "B-Hardy-Tess-1891-M                      1891      M  \n",
       "B-Mitford-Our_Village-1826-F             1826      F  \n",
       "B-Radcliffe-Mysteries_Udolpho-1794-F     1794      F  \n",
       "B-Shelley-Frankenstein-1818-F            1818      F  \n",
       "B-Stevenson-Treasure_Island-1883-M       1883      M  \n",
       "B-Thackeray-Vanity_Fair-1848-M           1848      M  \n",
       "B-Trollope-Live_Now-1875-M               1875      M  \n",
       "B-Wells-Time_Machine-1895-M              1895      M  \n",
       "B-Woolf-Mrs_Dalloway-1925-F              1925      F  "
      ]
     },
     "metadata": {},
     "output_type": "display_data"
    }
   ],
   "source": [
    "books = parse_fileids(corpus.fileids())\n",
    "display(books)"
   ]
  },
  {
   "cell_type": "markdown",
   "metadata": {},
   "source": [
    "So, we now have a data frame. What's in it?"
   ]
  },
  {
   "cell_type": "code",
   "execution_count": 45,
   "metadata": {
    "collapsed": false
   },
   "outputs": [
    {
     "data": {
      "text/plain": [
       "40"
      ]
     },
     "execution_count": 45,
     "metadata": {},
     "output_type": "execute_result"
    }
   ],
   "source": [
    "len(books)"
   ]
  },
  {
   "cell_type": "code",
   "execution_count": 46,
   "metadata": {
    "collapsed": false
   },
   "outputs": [
    {
     "data": {
      "text/plain": [
       "B    20\n",
       "A    20\n",
       "Name: nation, dtype: int64"
      ]
     },
     "execution_count": 46,
     "metadata": {},
     "output_type": "execute_result"
    }
   ],
   "source": [
    "books['nation'].value_counts()"
   ]
  },
  {
   "cell_type": "code",
   "execution_count": 48,
   "metadata": {
    "collapsed": false
   },
   "outputs": [
    {
     "data": {
      "text/plain": [
       "B    20\n",
       "A    20\n",
       "Name: nation, dtype: int64"
      ]
     },
     "execution_count": 48,
     "metadata": {},
     "output_type": "execute_result"
    }
   ],
   "source": [
    "# Note second way of referencing a column name\n",
    "books.nation.value_counts()"
   ]
  },
  {
   "cell_type": "code",
   "execution_count": 49,
   "metadata": {
    "collapsed": false
   },
   "outputs": [
    {
     "data": {
      "text/plain": [
       "M    20\n",
       "F    20\n",
       "Name: gender, dtype: int64"
      ]
     },
     "execution_count": 49,
     "metadata": {},
     "output_type": "execute_result"
    }
   ],
   "source": [
    "books['gender'].value_counts()"
   ]
  },
  {
   "cell_type": "code",
   "execution_count": 50,
   "metadata": {
    "collapsed": false
   },
   "outputs": [
    {
     "data": {
      "text/html": [
       "<div>\n",
       "<style scoped>\n",
       "    .dataframe tbody tr th:only-of-type {\n",
       "        vertical-align: middle;\n",
       "    }\n",
       "\n",
       "    .dataframe tbody tr th {\n",
       "        vertical-align: top;\n",
       "    }\n",
       "\n",
       "    .dataframe thead th {\n",
       "        text-align: right;\n",
       "    }\n",
       "</style>\n",
       "<table border=\"1\" class=\"dataframe\">\n",
       "  <thead>\n",
       "    <tr style=\"text-align: right;\">\n",
       "      <th></th>\n",
       "      <th>pubdate</th>\n",
       "    </tr>\n",
       "  </thead>\n",
       "  <tbody>\n",
       "    <tr>\n",
       "      <th>count</th>\n",
       "      <td>40.000000</td>\n",
       "    </tr>\n",
       "    <tr>\n",
       "      <th>mean</th>\n",
       "      <td>1873.875000</td>\n",
       "    </tr>\n",
       "    <tr>\n",
       "      <th>std</th>\n",
       "      <td>35.170783</td>\n",
       "    </tr>\n",
       "    <tr>\n",
       "      <th>min</th>\n",
       "      <td>1778.000000</td>\n",
       "    </tr>\n",
       "    <tr>\n",
       "      <th>25%</th>\n",
       "      <td>1850.750000</td>\n",
       "    </tr>\n",
       "    <tr>\n",
       "      <th>50%</th>\n",
       "      <td>1885.000000</td>\n",
       "    </tr>\n",
       "    <tr>\n",
       "      <th>75%</th>\n",
       "      <td>1900.250000</td>\n",
       "    </tr>\n",
       "    <tr>\n",
       "      <th>max</th>\n",
       "      <td>1925.000000</td>\n",
       "    </tr>\n",
       "  </tbody>\n",
       "</table>\n",
       "</div>"
      ],
      "text/plain": [
       "           pubdate\n",
       "count    40.000000\n",
       "mean   1873.875000\n",
       "std      35.170783\n",
       "min    1778.000000\n",
       "25%    1850.750000\n",
       "50%    1885.000000\n",
       "75%    1900.250000\n",
       "max    1925.000000"
      ]
     },
     "execution_count": 50,
     "metadata": {},
     "output_type": "execute_result"
    }
   ],
   "source": [
    "books.describe()"
   ]
  },
  {
   "cell_type": "markdown",
   "metadata": {},
   "source": [
    "Progress, but kind of cumbersome. Some of this data would be easier to digest is visual form. So ...\n",
    "\n",
    "### An interlude on plotting\n",
    "\n",
    "Plotting in Python is a big topic. There's no handy graphical interface to select ranges of data the way there is in Excel and it can be hard to know where to start. For this reason, many people dump their data as a CSV and use something else (probably Excel or R) to create visualizations.\n",
    "\n",
    "But Python really isn't that bad, and the advantages of sticking with it for vis are real.\n",
    "\n",
    "* Keeps workflow in one place, a unified codebase.\n",
    "* Creates repeatable output. No guessing about how a plot was created.\n",
    "* Makes it easy to create dozens or hundreds of related plots for related data.\n",
    "\n",
    "Here are the truly minimal basics."
   ]
  },
  {
   "cell_type": "code",
   "execution_count": 51,
   "metadata": {
    "collapsed": false
   },
   "outputs": [
    {
     "data": {
      "image/png": "[encoded data removed]",
      "text/plain": [
       "<Figure size 432x288 with 1 Axes>"
      ]
     },
     "metadata": {
      "needs_background": "light"
     },
     "output_type": "display_data"
    }
   ],
   "source": [
    "%matplotlib inline\n",
    "# Note the magic line above. \n",
    "#  Sets graphical output to stay in current notebook.\n",
    "import matplotlib.pyplot as plt\n",
    "\n",
    "x = [1, 2, 3, 4]\n",
    "y = [2, 2, 1, 3]\n",
    "\n",
    "plt.scatter(x,y)\n",
    "plt.show()"
   ]
  },
  {
   "cell_type": "markdown",
   "metadata": {},
   "source": [
    "This is raw `matplotlib`, the basic plotting library for Python. It's ... OK by default.\n",
    "\n",
    "We can use it to create other kinds of plots, like a histogram of the publication dates from our corpus:"
   ]
  },
  {
   "cell_type": "code",
   "execution_count": 52,
   "metadata": {
    "collapsed": false
   },
   "outputs": [
    {
     "data": {
      "image/png": "[encoded data removed]",
      "text/plain": [
       "<Figure size 432x288 with 1 Axes>"
      ]
     },
     "metadata": {
      "needs_background": "light"
     },
     "output_type": "display_data"
    }
   ],
   "source": [
    "dates = books['pubdate'].tolist() # Convert column to list\n",
    "plt.hist(dates, 10)\n",
    "plt.show()"
   ]
  },
  {
   "cell_type": "markdown",
   "metadata": {},
   "source": [
    "`matplotlib` is nice. Plenty of people use it as-is. But R has fancy statistical graphics built in. Python gets something similar (with added prettiness to boot) via the `seaborn` package, which is also geared to work with pandas dataframes like the one we just built to hold our `books` data.\n",
    "\n",
    "#### An example with seaborn"
   ]
  },
  {
   "cell_type": "code",
   "execution_count": 53,
   "metadata": {
    "collapsed": true
   },
   "outputs": [],
   "source": [
    "import seaborn as sns\n",
    "import numpy as np\n",
    "import warnings\n",
    "warnings.simplefilter('ignore')\n",
    "sns.set()\n",
    "sns.set_context('talk')"
   ]
  },
  {
   "cell_type": "code",
   "execution_count": 54,
   "metadata": {
    "collapsed": false
   },
   "outputs": [
    {
     "data": {
      "image/png": "[encoded data removed]",
      "text/plain": [
       "<Figure size 432x288 with 1 Axes>"
      ]
     },
     "metadata": {},
     "output_type": "display_data"
    }
   ],
   "source": [
    "sns.distplot(books['pubdate'], rug=True, kde=True, bins=10);"
   ]
  },
  {
   "cell_type": "code",
   "execution_count": 55,
   "metadata": {
    "collapsed": false
   },
   "outputs": [
    {
     "data": {
      "image/png": "[encoded data removed]",
      "text/plain": [
       "<Figure size 720x360 with 2 Axes>"
      ]
     },
     "metadata": {},
     "output_type": "display_data"
    }
   ],
   "source": [
    "sns.factorplot(x='gender', data=books, col='nation', kind='count');"
   ]
  },
  {
   "cell_type": "code",
   "execution_count": 56,
   "metadata": {
    "collapsed": false
   },
   "outputs": [
    {
     "data": {
      "image/png": "[encoded data removed]",
      "text/plain": [
       "<Figure size 864x288 with 2 Axes>"
      ]
     },
     "metadata": {},
     "output_type": "display_data"
    }
   ],
   "source": [
    "fig = sns.FacetGrid(books, col='nation', margin_titles=True, size=4, aspect=1.5)\n",
    "bins = np.linspace(books.pubdate.min(), books.pubdate.max(), 10)\n",
    "fig.map(plt.hist, 'pubdate', bins=bins, lw=0);"
   ]
  },
  {
   "cell_type": "code",
   "execution_count": 71,
   "metadata": {},
   "outputs": [
    {
     "data": {
      "image/png": "[encoded data removed]",
      "text/plain": [
       "<Figure size 576x576 with 4 Axes>"
      ]
     },
     "metadata": {},
     "output_type": "display_data"
    }
   ],
   "source": [
    "# And by nation AND gender ...\n",
    "# Plot distributions by nation and gender\n",
    "g = sns.FacetGrid(\n",
    "    books, \n",
    "    row='nation', \n",
    "    col='gender', \n",
    "    hue='gender', \n",
    "    margin_titles=True,\n",
    "    height=4\n",
    ")\n",
    "bins = np.linspace(books.pubdate.min(), books.pubdate.max(), 20)\n",
    "g.map(plt.hist, 'pubdate', bins=bins);"
   ]
  },
  {
   "cell_type": "markdown",
   "metadata": {},
   "source": [
    "### Back to our text story\n",
    "\n",
    "Let's calculate some basic data about our texts. Let's say ... the length in words and the average word length.\n",
    "\n",
    "We might like to have other data, such as the fraction of words that are nouns or verbs, or the kinds of entities they name, or their general subject matter, all of which could be collected in the same step. But this data can be slow to generate, so we'll skip it for now. Don't worry, we'll return to it later.\n",
    "\n",
    "We'll write a function to handle the data collection, then add the output to our existing data frame."
   ]
  },
  {
   "cell_type": "code",
   "execution_count": 57,
   "metadata": {
    "collapsed": false
   },
   "outputs": [],
   "source": [
    "def collect_stats(corpus):\n",
    "    '''Takes an NLTK corpus as input. \n",
    "       Returns a pandas dataframe of stats indexed to fileid.'''\n",
    "    import nltk\n",
    "    import pandas as pd\n",
    "    stats = {}\n",
    "    for fileid in corpus.fileids():\n",
    "        word_count = len(corpus.words(fileid))\n",
    "        character_count= len(corpus.raw(fileid)) - word_count\n",
    "            # raw character count includes whitespace, so subtract one char per word\n",
    "        stats[fileid.strip('.txt')] = {'wordcount':word_count,\n",
    "                           'word_length':character_count/word_count}\n",
    "    statistics = pd.DataFrame.from_dict(stats, orient='index')\n",
    "    return statistics.sort_index()"
   ]
  },
  {
   "cell_type": "markdown",
   "metadata": {},
   "source": [
    ">**NB.** If we were going to do part-of-speech tagging in pure Python, we'd use NLTK's tagger with a call like this:\n",
    "\n",
    "> ```\n",
    "> tagged_text = nltk.pos_tag(corpus.raw(fileid))\n",
    "> ```\n",
    "\n",
    ">Then, we'd loop over the results, looking for tags of interest. But we're not going to do that at the moment, because it takes nearly an hour to tag our small corpus."
   ]
  },
  {
   "cell_type": "code",
   "execution_count": 58,
   "metadata": {
    "collapsed": false
   },
   "outputs": [
    {
     "data": {
      "text/html": [
       "<div>\n",
       "<style scoped>\n",
       "    .dataframe tbody tr th:only-of-type {\n",
       "        vertical-align: middle;\n",
       "    }\n",
       "\n",
       "    .dataframe tbody tr th {\n",
       "        vertical-align: top;\n",
       "    }\n",
       "\n",
       "    .dataframe thead th {\n",
       "        text-align: right;\n",
       "    }\n",
       "</style>\n",
       "<table border=\"1\" class=\"dataframe\">\n",
       "  <thead>\n",
       "    <tr style=\"text-align: right;\">\n",
       "      <th></th>\n",
       "      <th>wordcount</th>\n",
       "      <th>word_length</th>\n",
       "    </tr>\n",
       "  </thead>\n",
       "  <tbody>\n",
       "    <tr>\n",
       "      <th>count</th>\n",
       "      <td>40.000000</td>\n",
       "      <td>40.000000</td>\n",
       "    </tr>\n",
       "    <tr>\n",
       "      <th>mean</th>\n",
       "      <td>162198.500000</td>\n",
       "      <td>3.538974</td>\n",
       "    </tr>\n",
       "    <tr>\n",
       "      <th>std</th>\n",
       "      <td>111180.920896</td>\n",
       "      <td>0.183013</td>\n",
       "    </tr>\n",
       "    <tr>\n",
       "      <th>min</th>\n",
       "      <td>18779.000000</td>\n",
       "      <td>2.987927</td>\n",
       "    </tr>\n",
       "    <tr>\n",
       "      <th>25%</th>\n",
       "      <td>82903.000000</td>\n",
       "      <td>3.434606</td>\n",
       "    </tr>\n",
       "    <tr>\n",
       "      <th>50%</th>\n",
       "      <td>142577.000000</td>\n",
       "      <td>3.517159</td>\n",
       "    </tr>\n",
       "    <tr>\n",
       "      <th>75%</th>\n",
       "      <td>227319.750000</td>\n",
       "      <td>3.675428</td>\n",
       "    </tr>\n",
       "    <tr>\n",
       "      <th>max</th>\n",
       "      <td>434272.000000</td>\n",
       "      <td>3.925728</td>\n",
       "    </tr>\n",
       "  </tbody>\n",
       "</table>\n",
       "</div>"
      ],
      "text/plain": [
       "           wordcount  word_length\n",
       "count      40.000000    40.000000\n",
       "mean   162198.500000     3.538974\n",
       "std    111180.920896     0.183013\n",
       "min     18779.000000     2.987927\n",
       "25%     82903.000000     3.434606\n",
       "50%    142577.000000     3.517159\n",
       "75%    227319.750000     3.675428\n",
       "max    434272.000000     3.925728"
      ]
     },
     "metadata": {},
     "output_type": "display_data"
    },
    {
     "name": "stdout",
     "output_type": "stream",
     "text": [
      "CPU times: user 4.77 s, sys: 142 ms, total: 4.92 s\n",
      "Wall time: 5.03 s\n"
     ]
    }
   ],
   "source": [
    "%%time\n",
    "stats = collect_stats(corpus)\n",
    "display(stats.describe())"
   ]
  },
  {
   "cell_type": "markdown",
   "metadata": {},
   "source": [
    "Note the wide variation in overall word counts and the much narrower range of average word lengths. This is as expected, but is worth keeping in mind. Some of the books in our corpus are very short and some are very long. Let's join these stats to the existing data frame for easier examination."
   ]
  },
  {
   "cell_type": "code",
   "execution_count": 59,
   "metadata": {
    "collapsed": false
   },
   "outputs": [
    {
     "data": {
      "text/html": [
       "<div>\n",
       "<style scoped>\n",
       "    .dataframe tbody tr th:only-of-type {\n",
       "        vertical-align: middle;\n",
       "    }\n",
       "\n",
       "    .dataframe tbody tr th {\n",
       "        vertical-align: top;\n",
       "    }\n",
       "\n",
       "    .dataframe thead th {\n",
       "        text-align: right;\n",
       "    }\n",
       "</style>\n",
       "<table border=\"1\" class=\"dataframe\">\n",
       "  <thead>\n",
       "    <tr style=\"text-align: right;\">\n",
       "      <th></th>\n",
       "      <th>nation</th>\n",
       "      <th>author</th>\n",
       "      <th>title</th>\n",
       "      <th>pubdate</th>\n",
       "      <th>gender</th>\n",
       "      <th>wordcount</th>\n",
       "      <th>word_length</th>\n",
       "    </tr>\n",
       "  </thead>\n",
       "  <tbody>\n",
       "    <tr>\n",
       "      <th>A-Alcott-Little_Women-1868-F</th>\n",
       "      <td>A</td>\n",
       "      <td>Alcott</td>\n",
       "      <td>Little Women</td>\n",
       "      <td>1868</td>\n",
       "      <td>F</td>\n",
       "      <td>229123</td>\n",
       "      <td>3.431388</td>\n",
       "    </tr>\n",
       "    <tr>\n",
       "      <th>A-Cather-Antonia-1918-F</th>\n",
       "      <td>A</td>\n",
       "      <td>Cather</td>\n",
       "      <td>Antonia</td>\n",
       "      <td>1918</td>\n",
       "      <td>F</td>\n",
       "      <td>97551</td>\n",
       "      <td>3.511876</td>\n",
       "    </tr>\n",
       "    <tr>\n",
       "      <th>A-Chesnutt-Marrow-1901-M</th>\n",
       "      <td>A</td>\n",
       "      <td>Chesnutt</td>\n",
       "      <td>Marrow</td>\n",
       "      <td>1901</td>\n",
       "      <td>M</td>\n",
       "      <td>110236</td>\n",
       "      <td>3.547970</td>\n",
       "    </tr>\n",
       "    <tr>\n",
       "      <th>A-Chopin-Awakening-1899-F</th>\n",
       "      <td>A</td>\n",
       "      <td>Chopin</td>\n",
       "      <td>Awakening</td>\n",
       "      <td>1899</td>\n",
       "      <td>F</td>\n",
       "      <td>76410</td>\n",
       "      <td>3.697657</td>\n",
       "    </tr>\n",
       "    <tr>\n",
       "      <th>A-Crane-Maggie-1893-M</th>\n",
       "      <td>A</td>\n",
       "      <td>Crane</td>\n",
       "      <td>Maggie</td>\n",
       "      <td>1893</td>\n",
       "      <td>M</td>\n",
       "      <td>28618</td>\n",
       "      <td>3.577923</td>\n",
       "    </tr>\n",
       "  </tbody>\n",
       "</table>\n",
       "</div>"
      ],
      "text/plain": [
       "                             nation    author         title  pubdate gender  \\\n",
       "A-Alcott-Little_Women-1868-F      A    Alcott  Little Women     1868      F   \n",
       "A-Cather-Antonia-1918-F           A    Cather       Antonia     1918      F   \n",
       "A-Chesnutt-Marrow-1901-M          A  Chesnutt        Marrow     1901      M   \n",
       "A-Chopin-Awakening-1899-F         A    Chopin     Awakening     1899      F   \n",
       "A-Crane-Maggie-1893-M             A     Crane        Maggie     1893      M   \n",
       "\n",
       "                              wordcount  word_length  \n",
       "A-Alcott-Little_Women-1868-F     229123     3.431388  \n",
       "A-Cather-Antonia-1918-F           97551     3.511876  \n",
       "A-Chesnutt-Marrow-1901-M         110236     3.547970  \n",
       "A-Chopin-Awakening-1899-F         76410     3.697657  \n",
       "A-Crane-Maggie-1893-M             28618     3.577923  "
      ]
     },
     "execution_count": 59,
     "metadata": {},
     "output_type": "execute_result"
    }
   ],
   "source": [
    "books = books.join(stats)\n",
    "books.head()"
   ]
  },
  {
   "cell_type": "markdown",
   "metadata": {},
   "source": [
    "How many total words in the corpus? About 6.5 million:"
   ]
  },
  {
   "cell_type": "code",
   "execution_count": 60,
   "metadata": {
    "collapsed": false,
    "scrolled": true
   },
   "outputs": [
    {
     "data": {
      "text/plain": [
       "6487940"
      ]
     },
     "execution_count": 60,
     "metadata": {},
     "output_type": "execute_result"
    }
   ],
   "source": [
    "books.wordcount.sum()"
   ]
  },
  {
   "cell_type": "markdown",
   "metadata": {},
   "source": [
    "### More stats and visualization\n",
    "\n",
    "We might want to know how our corpus differs by author nationality or gender.\n",
    "\n",
    "> **Important aside:** This isn't the same thing as asking how British literature differs from American literature or how female writing differs from male writing. We're talking about our wee toy corpus. Even with a bigger corpus, we'd need to be very confident of its representativeness and fitness for purpose before we started talking in more sweeping terms.\n",
    "\n",
    "Let's use pandas's `groupby` method to calculate some per-nation and per-gender corpus stats."
   ]
  },
  {
   "cell_type": "code",
   "execution_count": 61,
   "metadata": {
    "collapsed": true
   },
   "outputs": [],
   "source": [
    "books_nation = books.groupby('nation')\n",
    "books_gender = books.groupby('gender')"
   ]
  },
  {
   "cell_type": "code",
   "execution_count": 62,
   "metadata": {
    "collapsed": false
   },
   "outputs": [
    {
     "data": {
      "text/html": [
       "<div>\n",
       "<style scoped>\n",
       "    .dataframe tbody tr th:only-of-type {\n",
       "        vertical-align: middle;\n",
       "    }\n",
       "\n",
       "    .dataframe tbody tr th {\n",
       "        vertical-align: top;\n",
       "    }\n",
       "\n",
       "    .dataframe thead th {\n",
       "        text-align: right;\n",
       "    }\n",
       "</style>\n",
       "<table border=\"1\" class=\"dataframe\">\n",
       "  <thead>\n",
       "    <tr style=\"text-align: right;\">\n",
       "      <th></th>\n",
       "      <th>nation</th>\n",
       "      <th>A</th>\n",
       "      <th>B</th>\n",
       "    </tr>\n",
       "  </thead>\n",
       "  <tbody>\n",
       "    <tr>\n",
       "      <th rowspan=\"8\" valign=\"top\">pubdate</th>\n",
       "      <th>count</th>\n",
       "      <td>20.00</td>\n",
       "      <td>20.00</td>\n",
       "    </tr>\n",
       "    <tr>\n",
       "      <th>mean</th>\n",
       "      <td>1889.50</td>\n",
       "      <td>1858.25</td>\n",
       "    </tr>\n",
       "    <tr>\n",
       "      <th>std</th>\n",
       "      <td>21.94</td>\n",
       "      <td>39.29</td>\n",
       "    </tr>\n",
       "    <tr>\n",
       "      <th>min</th>\n",
       "      <td>1850.00</td>\n",
       "      <td>1778.00</td>\n",
       "    </tr>\n",
       "    <tr>\n",
       "      <th>25%</th>\n",
       "      <td>1880.75</td>\n",
       "      <td>1840.25</td>\n",
       "    </tr>\n",
       "    <tr>\n",
       "      <th>50%</th>\n",
       "      <td>1895.00</td>\n",
       "      <td>1854.00</td>\n",
       "    </tr>\n",
       "    <tr>\n",
       "      <th>75%</th>\n",
       "      <td>1903.00</td>\n",
       "      <td>1891.50</td>\n",
       "    </tr>\n",
       "    <tr>\n",
       "      <th>max</th>\n",
       "      <td>1920.00</td>\n",
       "      <td>1925.00</td>\n",
       "    </tr>\n",
       "    <tr>\n",
       "      <th rowspan=\"8\" valign=\"top\">word_length</th>\n",
       "      <th>count</th>\n",
       "      <td>20.00</td>\n",
       "      <td>20.00</td>\n",
       "    </tr>\n",
       "    <tr>\n",
       "      <th>mean</th>\n",
       "      <td>3.49</td>\n",
       "      <td>3.59</td>\n",
       "    </tr>\n",
       "    <tr>\n",
       "      <th>std</th>\n",
       "      <td>0.19</td>\n",
       "      <td>0.16</td>\n",
       "    </tr>\n",
       "    <tr>\n",
       "      <th>min</th>\n",
       "      <td>2.99</td>\n",
       "      <td>3.26</td>\n",
       "    </tr>\n",
       "    <tr>\n",
       "      <th>25%</th>\n",
       "      <td>3.36</td>\n",
       "      <td>3.46</td>\n",
       "    </tr>\n",
       "    <tr>\n",
       "      <th>50%</th>\n",
       "      <td>3.50</td>\n",
       "      <td>3.57</td>\n",
       "    </tr>\n",
       "    <tr>\n",
       "      <th>75%</th>\n",
       "      <td>3.61</td>\n",
       "      <td>3.73</td>\n",
       "    </tr>\n",
       "    <tr>\n",
       "      <th>max</th>\n",
       "      <td>3.84</td>\n",
       "      <td>3.93</td>\n",
       "    </tr>\n",
       "    <tr>\n",
       "      <th rowspan=\"8\" valign=\"top\">wordcount</th>\n",
       "      <th>count</th>\n",
       "      <td>20.00</td>\n",
       "      <td>20.00</td>\n",
       "    </tr>\n",
       "    <tr>\n",
       "      <th>mean</th>\n",
       "      <td>126985.25</td>\n",
       "      <td>197411.75</td>\n",
       "    </tr>\n",
       "    <tr>\n",
       "      <th>std</th>\n",
       "      <td>75909.17</td>\n",
       "      <td>130385.25</td>\n",
       "    </tr>\n",
       "    <tr>\n",
       "      <th>min</th>\n",
       "      <td>18779.00</td>\n",
       "      <td>37955.00</td>\n",
       "    </tr>\n",
       "    <tr>\n",
       "      <th>25%</th>\n",
       "      <td>73520.75</td>\n",
       "      <td>84653.75</td>\n",
       "    </tr>\n",
       "    <tr>\n",
       "      <th>50%</th>\n",
       "      <td>105640.50</td>\n",
       "      <td>184757.50</td>\n",
       "    </tr>\n",
       "    <tr>\n",
       "      <th>75%</th>\n",
       "      <td>171054.25</td>\n",
       "      <td>259140.75</td>\n",
       "    </tr>\n",
       "    <tr>\n",
       "      <th>max</th>\n",
       "      <td>260952.00</td>\n",
       "      <td>434272.00</td>\n",
       "    </tr>\n",
       "  </tbody>\n",
       "</table>\n",
       "</div>"
      ],
      "text/plain": [
       "nation                     A          B\n",
       "pubdate     count      20.00      20.00\n",
       "            mean     1889.50    1858.25\n",
       "            std        21.94      39.29\n",
       "            min      1850.00    1778.00\n",
       "            25%      1880.75    1840.25\n",
       "            50%      1895.00    1854.00\n",
       "            75%      1903.00    1891.50\n",
       "            max      1920.00    1925.00\n",
       "word_length count      20.00      20.00\n",
       "            mean        3.49       3.59\n",
       "            std         0.19       0.16\n",
       "            min         2.99       3.26\n",
       "            25%         3.36       3.46\n",
       "            50%         3.50       3.57\n",
       "            75%         3.61       3.73\n",
       "            max         3.84       3.93\n",
       "wordcount   count      20.00      20.00\n",
       "            mean   126985.25  197411.75\n",
       "            std     75909.17  130385.25\n",
       "            min     18779.00   37955.00\n",
       "            25%     73520.75   84653.75\n",
       "            50%    105640.50  184757.50\n",
       "            75%    171054.25  259140.75\n",
       "            max    260952.00  434272.00"
      ]
     },
     "metadata": {},
     "output_type": "display_data"
    },
    {
     "data": {
      "text/html": [
       "<div>\n",
       "<style scoped>\n",
       "    .dataframe tbody tr th:only-of-type {\n",
       "        vertical-align: middle;\n",
       "    }\n",
       "\n",
       "    .dataframe tbody tr th {\n",
       "        vertical-align: top;\n",
       "    }\n",
       "\n",
       "    .dataframe thead th {\n",
       "        text-align: right;\n",
       "    }\n",
       "</style>\n",
       "<table border=\"1\" class=\"dataframe\">\n",
       "  <thead>\n",
       "    <tr style=\"text-align: right;\">\n",
       "      <th></th>\n",
       "      <th>gender</th>\n",
       "      <th>F</th>\n",
       "      <th>M</th>\n",
       "    </tr>\n",
       "  </thead>\n",
       "  <tbody>\n",
       "    <tr>\n",
       "      <th rowspan=\"8\" valign=\"top\">pubdate</th>\n",
       "      <th>count</th>\n",
       "      <td>20.00</td>\n",
       "      <td>20.00</td>\n",
       "    </tr>\n",
       "    <tr>\n",
       "      <th>mean</th>\n",
       "      <td>1864.35</td>\n",
       "      <td>1883.40</td>\n",
       "    </tr>\n",
       "    <tr>\n",
       "      <th>std</th>\n",
       "      <td>43.29</td>\n",
       "      <td>21.76</td>\n",
       "    </tr>\n",
       "    <tr>\n",
       "      <th>min</th>\n",
       "      <td>1778.00</td>\n",
       "      <td>1845.00</td>\n",
       "    </tr>\n",
       "    <tr>\n",
       "      <th>25%</th>\n",
       "      <td>1841.75</td>\n",
       "      <td>1869.50</td>\n",
       "    </tr>\n",
       "    <tr>\n",
       "      <th>50%</th>\n",
       "      <td>1864.50</td>\n",
       "      <td>1892.00</td>\n",
       "    </tr>\n",
       "    <tr>\n",
       "      <th>75%</th>\n",
       "      <td>1896.75</td>\n",
       "      <td>1901.25</td>\n",
       "    </tr>\n",
       "    <tr>\n",
       "      <th>max</th>\n",
       "      <td>1925.00</td>\n",
       "      <td>1908.00</td>\n",
       "    </tr>\n",
       "    <tr>\n",
       "      <th rowspan=\"8\" valign=\"top\">word_length</th>\n",
       "      <th>count</th>\n",
       "      <td>20.00</td>\n",
       "      <td>20.00</td>\n",
       "    </tr>\n",
       "    <tr>\n",
       "      <th>mean</th>\n",
       "      <td>3.55</td>\n",
       "      <td>3.52</td>\n",
       "    </tr>\n",
       "    <tr>\n",
       "      <th>std</th>\n",
       "      <td>0.18</td>\n",
       "      <td>0.19</td>\n",
       "    </tr>\n",
       "    <tr>\n",
       "      <th>min</th>\n",
       "      <td>3.30</td>\n",
       "      <td>2.99</td>\n",
       "    </tr>\n",
       "    <tr>\n",
       "      <th>25%</th>\n",
       "      <td>3.43</td>\n",
       "      <td>3.46</td>\n",
       "    </tr>\n",
       "    <tr>\n",
       "      <th>50%</th>\n",
       "      <td>3.50</td>\n",
       "      <td>3.52</td>\n",
       "    </tr>\n",
       "    <tr>\n",
       "      <th>75%</th>\n",
       "      <td>3.70</td>\n",
       "      <td>3.66</td>\n",
       "    </tr>\n",
       "    <tr>\n",
       "      <th>max</th>\n",
       "      <td>3.93</td>\n",
       "      <td>3.84</td>\n",
       "    </tr>\n",
       "    <tr>\n",
       "      <th rowspan=\"8\" valign=\"top\">wordcount</th>\n",
       "      <th>count</th>\n",
       "      <td>20.00</td>\n",
       "      <td>20.00</td>\n",
       "    </tr>\n",
       "    <tr>\n",
       "      <th>mean</th>\n",
       "      <td>148209.00</td>\n",
       "      <td>176188.00</td>\n",
       "    </tr>\n",
       "    <tr>\n",
       "      <th>std</th>\n",
       "      <td>99610.17</td>\n",
       "      <td>122632.73</td>\n",
       "    </tr>\n",
       "    <tr>\n",
       "      <th>min</th>\n",
       "      <td>18779.00</td>\n",
       "      <td>28618.00</td>\n",
       "    </tr>\n",
       "    <tr>\n",
       "      <th>25%</th>\n",
       "      <td>78010.50</td>\n",
       "      <td>84653.75</td>\n",
       "    </tr>\n",
       "    <tr>\n",
       "      <th>50%</th>\n",
       "      <td>112607.50</td>\n",
       "      <td>160494.50</td>\n",
       "    </tr>\n",
       "    <tr>\n",
       "      <th>75%</th>\n",
       "      <td>226234.50</td>\n",
       "      <td>234761.50</td>\n",
       "    </tr>\n",
       "    <tr>\n",
       "      <th>max</th>\n",
       "      <td>377342.00</td>\n",
       "      <td>434272.00</td>\n",
       "    </tr>\n",
       "  </tbody>\n",
       "</table>\n",
       "</div>"
      ],
      "text/plain": [
       "gender                     F          M\n",
       "pubdate     count      20.00      20.00\n",
       "            mean     1864.35    1883.40\n",
       "            std        43.29      21.76\n",
       "            min      1778.00    1845.00\n",
       "            25%      1841.75    1869.50\n",
       "            50%      1864.50    1892.00\n",
       "            75%      1896.75    1901.25\n",
       "            max      1925.00    1908.00\n",
       "word_length count      20.00      20.00\n",
       "            mean        3.55       3.52\n",
       "            std         0.18       0.19\n",
       "            min         3.30       2.99\n",
       "            25%         3.43       3.46\n",
       "            50%         3.50       3.52\n",
       "            75%         3.70       3.66\n",
       "            max         3.93       3.84\n",
       "wordcount   count      20.00      20.00\n",
       "            mean   148209.00  176188.00\n",
       "            std     99610.17  122632.73\n",
       "            min     18779.00   28618.00\n",
       "            25%     78010.50   84653.75\n",
       "            50%    112607.50  160494.50\n",
       "            75%    226234.50  234761.50\n",
       "            max    377342.00  434272.00"
      ]
     },
     "metadata": {},
     "output_type": "display_data"
    }
   ],
   "source": [
    "with pd.option_context('display.precision', 2):\n",
    "    display(books_nation.describe().transpose())\n",
    "    display(books_gender.describe().transpose())"
   ]
  },
  {
   "cell_type": "markdown",
   "metadata": {},
   "source": [
    "We can also group by multiple criteria:"
   ]
  },
  {
   "cell_type": "code",
   "execution_count": 63,
   "metadata": {
    "collapsed": false
   },
   "outputs": [
    {
     "data": {
      "text/html": [
       "<div>\n",
       "<style scoped>\n",
       "    .dataframe tbody tr th:only-of-type {\n",
       "        vertical-align: middle;\n",
       "    }\n",
       "\n",
       "    .dataframe tbody tr th {\n",
       "        vertical-align: top;\n",
       "    }\n",
       "\n",
       "    .dataframe thead tr th {\n",
       "        text-align: left;\n",
       "    }\n",
       "</style>\n",
       "<table border=\"1\" class=\"dataframe\">\n",
       "  <thead>\n",
       "    <tr>\n",
       "      <th></th>\n",
       "      <th>nation</th>\n",
       "      <th colspan=\"2\" halign=\"left\">A</th>\n",
       "      <th colspan=\"2\" halign=\"left\">B</th>\n",
       "    </tr>\n",
       "    <tr>\n",
       "      <th></th>\n",
       "      <th>gender</th>\n",
       "      <th>F</th>\n",
       "      <th>M</th>\n",
       "      <th>F</th>\n",
       "      <th>M</th>\n",
       "    </tr>\n",
       "  </thead>\n",
       "  <tbody>\n",
       "    <tr>\n",
       "      <th rowspan=\"8\" valign=\"top\">pubdate</th>\n",
       "      <th>count</th>\n",
       "      <td>10.00</td>\n",
       "      <td>10.00</td>\n",
       "      <td>10.00</td>\n",
       "      <td>10.00</td>\n",
       "    </tr>\n",
       "    <tr>\n",
       "      <th>mean</th>\n",
       "      <td>1891.50</td>\n",
       "      <td>1887.50</td>\n",
       "      <td>1837.20</td>\n",
       "      <td>1879.30</td>\n",
       "    </tr>\n",
       "    <tr>\n",
       "      <th>std</th>\n",
       "      <td>24.02</td>\n",
       "      <td>20.74</td>\n",
       "      <td>41.74</td>\n",
       "      <td>23.07</td>\n",
       "    </tr>\n",
       "    <tr>\n",
       "      <th>min</th>\n",
       "      <td>1852.00</td>\n",
       "      <td>1850.00</td>\n",
       "      <td>1778.00</td>\n",
       "      <td>1845.00</td>\n",
       "    </tr>\n",
       "    <tr>\n",
       "      <th>25%</th>\n",
       "      <td>1874.00</td>\n",
       "      <td>1885.00</td>\n",
       "      <td>1814.25</td>\n",
       "      <td>1858.50</td>\n",
       "    </tr>\n",
       "    <tr>\n",
       "      <th>50%</th>\n",
       "      <td>1895.00</td>\n",
       "      <td>1896.50</td>\n",
       "      <td>1836.50</td>\n",
       "      <td>1887.00</td>\n",
       "    </tr>\n",
       "    <tr>\n",
       "      <th>75%</th>\n",
       "      <td>1911.00</td>\n",
       "      <td>1902.50</td>\n",
       "      <td>1853.00</td>\n",
       "      <td>1894.50</td>\n",
       "    </tr>\n",
       "    <tr>\n",
       "      <th>max</th>\n",
       "      <td>1920.00</td>\n",
       "      <td>1904.00</td>\n",
       "      <td>1925.00</td>\n",
       "      <td>1908.00</td>\n",
       "    </tr>\n",
       "    <tr>\n",
       "      <th rowspan=\"8\" valign=\"top\">word_length</th>\n",
       "      <th>count</th>\n",
       "      <td>10.00</td>\n",
       "      <td>10.00</td>\n",
       "      <td>10.00</td>\n",
       "      <td>10.00</td>\n",
       "    </tr>\n",
       "    <tr>\n",
       "      <th>mean</th>\n",
       "      <td>3.47</td>\n",
       "      <td>3.50</td>\n",
       "      <td>3.64</td>\n",
       "      <td>3.55</td>\n",
       "    </tr>\n",
       "    <tr>\n",
       "      <th>std</th>\n",
       "      <td>0.14</td>\n",
       "      <td>0.24</td>\n",
       "      <td>0.17</td>\n",
       "      <td>0.15</td>\n",
       "    </tr>\n",
       "    <tr>\n",
       "      <th>min</th>\n",
       "      <td>3.30</td>\n",
       "      <td>2.99</td>\n",
       "      <td>3.42</td>\n",
       "      <td>3.26</td>\n",
       "    </tr>\n",
       "    <tr>\n",
       "      <th>25%</th>\n",
       "      <td>3.35</td>\n",
       "      <td>3.44</td>\n",
       "      <td>3.47</td>\n",
       "      <td>3.48</td>\n",
       "    </tr>\n",
       "    <tr>\n",
       "      <th>50%</th>\n",
       "      <td>3.43</td>\n",
       "      <td>3.54</td>\n",
       "      <td>3.67</td>\n",
       "      <td>3.52</td>\n",
       "    </tr>\n",
       "    <tr>\n",
       "      <th>75%</th>\n",
       "      <td>3.57</td>\n",
       "      <td>3.64</td>\n",
       "      <td>3.76</td>\n",
       "      <td>3.65</td>\n",
       "    </tr>\n",
       "    <tr>\n",
       "      <th>max</th>\n",
       "      <td>3.70</td>\n",
       "      <td>3.84</td>\n",
       "      <td>3.93</td>\n",
       "      <td>3.74</td>\n",
       "    </tr>\n",
       "    <tr>\n",
       "      <th rowspan=\"8\" valign=\"top\">wordcount</th>\n",
       "      <th>count</th>\n",
       "      <td>10.00</td>\n",
       "      <td>10.00</td>\n",
       "      <td>10.00</td>\n",
       "      <td>10.00</td>\n",
       "    </tr>\n",
       "    <tr>\n",
       "      <th>mean</th>\n",
       "      <td>108898.70</td>\n",
       "      <td>145071.80</td>\n",
       "      <td>187519.30</td>\n",
       "      <td>207304.20</td>\n",
       "    </tr>\n",
       "    <tr>\n",
       "      <th>std</th>\n",
       "      <td>71089.30</td>\n",
       "      <td>79900.05</td>\n",
       "      <td>111620.55</td>\n",
       "      <td>152357.91</td>\n",
       "    </tr>\n",
       "    <tr>\n",
       "      <th>min</th>\n",
       "      <td>18779.00</td>\n",
       "      <td>28618.00</td>\n",
       "      <td>46740.00</td>\n",
       "      <td>37955.00</td>\n",
       "    </tr>\n",
       "    <tr>\n",
       "      <th>25%</th>\n",
       "      <td>67742.25</td>\n",
       "      <td>102295.00</td>\n",
       "      <td>100146.00</td>\n",
       "      <td>84455.25</td>\n",
       "    </tr>\n",
       "    <tr>\n",
       "      <th>50%</th>\n",
       "      <td>93935.00</td>\n",
       "      <td>149361.50</td>\n",
       "      <td>168375.00</td>\n",
       "      <td>184757.50</td>\n",
       "    </tr>\n",
       "    <tr>\n",
       "      <th>75%</th>\n",
       "      <td>118388.75</td>\n",
       "      <td>186352.75</td>\n",
       "      <td>227391.50</td>\n",
       "      <td>331811.25</td>\n",
       "    </tr>\n",
       "    <tr>\n",
       "      <th>max</th>\n",
       "      <td>234930.00</td>\n",
       "      <td>260952.00</td>\n",
       "      <td>377342.00</td>\n",
       "      <td>434272.00</td>\n",
       "    </tr>\n",
       "  </tbody>\n",
       "</table>\n",
       "</div>"
      ],
      "text/plain": [
       "nation                     A                     B           \n",
       "gender                     F          M          F          M\n",
       "pubdate     count      10.00      10.00      10.00      10.00\n",
       "            mean     1891.50    1887.50    1837.20    1879.30\n",
       "            std        24.02      20.74      41.74      23.07\n",
       "            min      1852.00    1850.00    1778.00    1845.00\n",
       "            25%      1874.00    1885.00    1814.25    1858.50\n",
       "            50%      1895.00    1896.50    1836.50    1887.00\n",
       "            75%      1911.00    1902.50    1853.00    1894.50\n",
       "            max      1920.00    1904.00    1925.00    1908.00\n",
       "word_length count      10.00      10.00      10.00      10.00\n",
       "            mean        3.47       3.50       3.64       3.55\n",
       "            std         0.14       0.24       0.17       0.15\n",
       "            min         3.30       2.99       3.42       3.26\n",
       "            25%         3.35       3.44       3.47       3.48\n",
       "            50%         3.43       3.54       3.67       3.52\n",
       "            75%         3.57       3.64       3.76       3.65\n",
       "            max         3.70       3.84       3.93       3.74\n",
       "wordcount   count      10.00      10.00      10.00      10.00\n",
       "            mean   108898.70  145071.80  187519.30  207304.20\n",
       "            std     71089.30   79900.05  111620.55  152357.91\n",
       "            min     18779.00   28618.00   46740.00   37955.00\n",
       "            25%     67742.25  102295.00  100146.00   84455.25\n",
       "            50%     93935.00  149361.50  168375.00  184757.50\n",
       "            75%    118388.75  186352.75  227391.50  331811.25\n",
       "            max    234930.00  260952.00  377342.00  434272.00"
      ]
     },
     "metadata": {},
     "output_type": "display_data"
    }
   ],
   "source": [
    "books_multi = books.groupby(['nation', 'gender'])\n",
    "with pd.option_context('display.precision', 2):\n",
    "    display(books_multi.describe().transpose())"
   ]
  },
  {
   "cell_type": "markdown",
   "metadata": {},
   "source": [
    "Which are the longest books in the corpus?"
   ]
  },
  {
   "cell_type": "code",
   "execution_count": 64,
   "metadata": {
    "collapsed": false
   },
   "outputs": [
    {
     "data": {
      "text/html": [
       "<div>\n",
       "<style scoped>\n",
       "    .dataframe tbody tr th:only-of-type {\n",
       "        vertical-align: middle;\n",
       "    }\n",
       "\n",
       "    .dataframe tbody tr th {\n",
       "        vertical-align: top;\n",
       "    }\n",
       "\n",
       "    .dataframe thead th {\n",
       "        text-align: right;\n",
       "    }\n",
       "</style>\n",
       "<table border=\"1\" class=\"dataframe\">\n",
       "  <thead>\n",
       "    <tr style=\"text-align: right;\">\n",
       "      <th></th>\n",
       "      <th>nation</th>\n",
       "      <th>author</th>\n",
       "      <th>title</th>\n",
       "      <th>pubdate</th>\n",
       "      <th>gender</th>\n",
       "      <th>wordcount</th>\n",
       "      <th>word_length</th>\n",
       "    </tr>\n",
       "  </thead>\n",
       "  <tbody>\n",
       "    <tr>\n",
       "      <th>B-Dickens-Bleak_House-1853-M</th>\n",
       "      <td>B</td>\n",
       "      <td>Dickens</td>\n",
       "      <td>Bleak House</td>\n",
       "      <td>1853</td>\n",
       "      <td>M</td>\n",
       "      <td>434272</td>\n",
       "      <td>3.454508</td>\n",
       "    </tr>\n",
       "    <tr>\n",
       "      <th>B-Trollope-Live_Now-1875-M</th>\n",
       "      <td>B</td>\n",
       "      <td>Trollope</td>\n",
       "      <td>Live Now</td>\n",
       "      <td>1875</td>\n",
       "      <td>M</td>\n",
       "      <td>421656</td>\n",
       "      <td>3.505893</td>\n",
       "    </tr>\n",
       "    <tr>\n",
       "      <th>B-Eliot-Middlemarch-1869-F</th>\n",
       "      <td>B</td>\n",
       "      <td>Eliot</td>\n",
       "      <td>Middlemarch</td>\n",
       "      <td>1869</td>\n",
       "      <td>F</td>\n",
       "      <td>377342</td>\n",
       "      <td>3.743861</td>\n",
       "    </tr>\n",
       "    <tr>\n",
       "      <th>B-Thackeray-Vanity_Fair-1848-M</th>\n",
       "      <td>B</td>\n",
       "      <td>Thackeray</td>\n",
       "      <td>Vanity Fair</td>\n",
       "      <td>1848</td>\n",
       "      <td>M</td>\n",
       "      <td>366714</td>\n",
       "      <td>3.661286</td>\n",
       "    </tr>\n",
       "    <tr>\n",
       "      <th>B-Radcliffe-Mysteries_Udolpho-1794-F</th>\n",
       "      <td>B</td>\n",
       "      <td>Radcliffe</td>\n",
       "      <td>Mysteries Udolpho</td>\n",
       "      <td>1794</td>\n",
       "      <td>F</td>\n",
       "      <td>352653</td>\n",
       "      <td>3.765710</td>\n",
       "    </tr>\n",
       "  </tbody>\n",
       "</table>\n",
       "</div>"
      ],
      "text/plain": [
       "                                     nation     author              title  \\\n",
       "B-Dickens-Bleak_House-1853-M              B    Dickens        Bleak House   \n",
       "B-Trollope-Live_Now-1875-M                B   Trollope           Live Now   \n",
       "B-Eliot-Middlemarch-1869-F                B      Eliot        Middlemarch   \n",
       "B-Thackeray-Vanity_Fair-1848-M            B  Thackeray        Vanity Fair   \n",
       "B-Radcliffe-Mysteries_Udolpho-1794-F      B  Radcliffe  Mysteries Udolpho   \n",
       "\n",
       "                                      pubdate gender  wordcount  word_length  \n",
       "B-Dickens-Bleak_House-1853-M             1853      M     434272     3.454508  \n",
       "B-Trollope-Live_Now-1875-M               1875      M     421656     3.505893  \n",
       "B-Eliot-Middlemarch-1869-F               1869      F     377342     3.743861  \n",
       "B-Thackeray-Vanity_Fair-1848-M           1848      M     366714     3.661286  \n",
       "B-Radcliffe-Mysteries_Udolpho-1794-F     1794      F     352653     3.765710  "
      ]
     },
     "execution_count": 64,
     "metadata": {},
     "output_type": "execute_result"
    }
   ],
   "source": [
    "books.sort_values('wordcount', ascending=False).head()"
   ]
  },
  {
   "cell_type": "code",
   "execution_count": 65,
   "metadata": {
    "collapsed": false
   },
   "outputs": [
    {
     "data": {
      "text/html": [
       "<div>\n",
       "<style scoped>\n",
       "    .dataframe tbody tr th:only-of-type {\n",
       "        vertical-align: middle;\n",
       "    }\n",
       "\n",
       "    .dataframe tbody tr th {\n",
       "        vertical-align: top;\n",
       "    }\n",
       "\n",
       "    .dataframe thead th {\n",
       "        text-align: right;\n",
       "    }\n",
       "</style>\n",
       "<table border=\"1\" class=\"dataframe\">\n",
       "  <thead>\n",
       "    <tr style=\"text-align: right;\">\n",
       "      <th></th>\n",
       "      <th>nation</th>\n",
       "      <th>author</th>\n",
       "      <th>title</th>\n",
       "      <th>pubdate</th>\n",
       "      <th>gender</th>\n",
       "      <th>wordcount</th>\n",
       "      <th>word_length</th>\n",
       "    </tr>\n",
       "  </thead>\n",
       "  <tbody>\n",
       "    <tr>\n",
       "      <th>B-Shelley-Frankenstein-1818-F</th>\n",
       "      <td>B</td>\n",
       "      <td>Shelley</td>\n",
       "      <td>Frankenstein</td>\n",
       "      <td>1818</td>\n",
       "      <td>F</td>\n",
       "      <td>85523</td>\n",
       "      <td>3.925728</td>\n",
       "    </tr>\n",
       "    <tr>\n",
       "      <th>A-Hawthorne-Scarlet_Letter-1850-M</th>\n",
       "      <td>A</td>\n",
       "      <td>Hawthorne</td>\n",
       "      <td>Scarlet Letter</td>\n",
       "      <td>1850</td>\n",
       "      <td>M</td>\n",
       "      <td>99648</td>\n",
       "      <td>3.843399</td>\n",
       "    </tr>\n",
       "    <tr>\n",
       "      <th>B-Austen-Pride_Prejudice-1813-F</th>\n",
       "      <td>B</td>\n",
       "      <td>Austen</td>\n",
       "      <td>Pride Prejudice</td>\n",
       "      <td>1813</td>\n",
       "      <td>F</td>\n",
       "      <td>144015</td>\n",
       "      <td>3.768135</td>\n",
       "    </tr>\n",
       "    <tr>\n",
       "      <th>B-Radcliffe-Mysteries_Udolpho-1794-F</th>\n",
       "      <td>B</td>\n",
       "      <td>Radcliffe</td>\n",
       "      <td>Mysteries Udolpho</td>\n",
       "      <td>1794</td>\n",
       "      <td>F</td>\n",
       "      <td>352653</td>\n",
       "      <td>3.765710</td>\n",
       "    </tr>\n",
       "    <tr>\n",
       "      <th>B-Disraeli-Sybil-1845-M</th>\n",
       "      <td>B</td>\n",
       "      <td>Disraeli</td>\n",
       "      <td>Sybil</td>\n",
       "      <td>1845</td>\n",
       "      <td>M</td>\n",
       "      <td>188820</td>\n",
       "      <td>3.744969</td>\n",
       "    </tr>\n",
       "  </tbody>\n",
       "</table>\n",
       "</div>"
      ],
      "text/plain": [
       "                                     nation     author              title  \\\n",
       "B-Shelley-Frankenstein-1818-F             B    Shelley       Frankenstein   \n",
       "A-Hawthorne-Scarlet_Letter-1850-M         A  Hawthorne     Scarlet Letter   \n",
       "B-Austen-Pride_Prejudice-1813-F           B     Austen    Pride Prejudice   \n",
       "B-Radcliffe-Mysteries_Udolpho-1794-F      B  Radcliffe  Mysteries Udolpho   \n",
       "B-Disraeli-Sybil-1845-M                   B   Disraeli              Sybil   \n",
       "\n",
       "                                      pubdate gender  wordcount  word_length  \n",
       "B-Shelley-Frankenstein-1818-F            1818      F      85523     3.925728  \n",
       "A-Hawthorne-Scarlet_Letter-1850-M        1850      M      99648     3.843399  \n",
       "B-Austen-Pride_Prejudice-1813-F          1813      F     144015     3.768135  \n",
       "B-Radcliffe-Mysteries_Udolpho-1794-F     1794      F     352653     3.765710  \n",
       "B-Disraeli-Sybil-1845-M                  1845      M     188820     3.744969  "
      ]
     },
     "execution_count": 65,
     "metadata": {},
     "output_type": "execute_result"
    }
   ],
   "source": [
    "books.sort_values('word_length', ascending=False).head()"
   ]
  },
  {
   "cell_type": "markdown",
   "metadata": {},
   "source": [
    "Is there a relationship between text length and average word length in the corpus?"
   ]
  },
  {
   "cell_type": "code",
   "execution_count": 66,
   "metadata": {
    "collapsed": false
   },
   "outputs": [
    {
     "data": {
      "image/png": "[encoded data removed]",
      "text/plain": [
       "<Figure size 432x288 with 1 Axes>"
      ]
     },
     "metadata": {},
     "output_type": "display_data"
    }
   ],
   "source": [
    "sns.regplot('word_length', 'wordcount', books);"
   ]
  },
  {
   "cell_type": "markdown",
   "metadata": {},
   "source": [
    "How about word count as a function of publication date?"
   ]
  },
  {
   "cell_type": "code",
   "execution_count": 67,
   "metadata": {
    "collapsed": false
   },
   "outputs": [
    {
     "data": {
      "image/png": "[encoded data removed]",
      "text/plain": [
       "<Figure size 432x288 with 1 Axes>"
      ]
     },
     "metadata": {},
     "output_type": "display_data"
    }
   ],
   "source": [
    "sns.regplot('pubdate', 'wordcount', books);"
   ]
  },
  {
   "cell_type": "markdown",
   "metadata": {},
   "source": [
    "Let's make clearer the nationality of these texts in the preceding plot."
   ]
  },
  {
   "cell_type": "code",
   "execution_count": 68,
   "metadata": {
    "collapsed": false
   },
   "outputs": [
    {
     "data": {
      "image/png": "[encoded data removed]",
      "text/plain": [
       "<Figure size 646.4x576 with 1 Axes>"
      ]
     },
     "metadata": {},
     "output_type": "display_data"
    }
   ],
   "source": [
    "sns.lmplot('pubdate', 'wordcount', books, hue='nation', \n",
    "            palette='Set1', size=8, scatter_kws={\"s\": 100}).set(ylim=(0,500000));"
   ]
  },
  {
   "cell_type": "markdown",
   "metadata": {},
   "source": [
    "And one last plot showing average lengths by nation and gender."
   ]
  },
  {
   "cell_type": "code",
   "execution_count": 69,
   "metadata": {
    "collapsed": false
   },
   "outputs": [
    {
     "data": {
      "image/png": "[encoded data removed]",
      "text/plain": [
       "<Figure size 649.15x576 with 1 Axes>"
      ]
     },
     "metadata": {},
     "output_type": "display_data"
    }
   ],
   "source": [
    "fig = sns.factorplot(x='nation', y='wordcount', hue='gender', data=books,\n",
    "               size=8, kind='bar', palette='muted')\n",
    "fig.set(xlabel='Nation', ylabel='Words / volume');"
   ]
  },
  {
   "cell_type": "markdown",
   "metadata": {},
   "source": [
    "## Takeaways\n",
    "\n",
    "Beyond the conceptual and mechanical basics, we've assembled and gotten a feel for a small corpus of novels from the U.K. and the U.S. The American texts in the corpus are, on average, more recent, shorter, and use slightly shorter words. The corpus contains the same number of books written by men and by women, and by British and American authors.\n",
    "\n",
    "We also know, on critical grounds, that we're dealing with fairly canonical, mostly realist texts from the mid-late nineteenth century. There's a smattering of generic and historical diversity (_Treasure Island_, _My Antonia_), a couple of complex national identities (James, Conrad), and very little racial diversity.\n",
    "\n",
    "So, that's our toy corpus. We'll eventually put it to work."
   ]
  },
  {
   "cell_type": "code",
   "execution_count": null,
   "metadata": {
    "collapsed": true
   },
   "outputs": [],
   "source": []
  }
 ],
 "metadata": {
  "anaconda-cloud": {},
  "kernelspec": {
   "display_name": "Python 3",
   "language": "python",
   "name": "python3"
  },
  "language_info": {
   "codemirror_mode": {
    "name": "ipython",
    "version": 3
   },
   "file_extension": ".py",
   "mimetype": "text/x-python",
   "name": "python",
   "nbconvert_exporter": "python",
   "pygments_lexer": "ipython3",
   "version": "3.7.1"
  }
 },
 "nbformat": 4,
 "nbformat_minor": 2
}
